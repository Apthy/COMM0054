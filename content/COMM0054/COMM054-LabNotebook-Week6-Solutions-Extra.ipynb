{
 "cells": [
  {
   "cell_type": "markdown",
   "metadata": {},
   "source": [
    "### Data Science Principles and Practices (COMM054) Lab Week 6 - Extra materials\n",
    "\n",
    "Follow the instructions to complete each of these tasks. This set of exercises focusses on writing basic Python code to carry out simple hypothesis testing.\n",
    "\n",
    "This is not assessed but will help you gain practical experience for the module exam and coursework.\n",
    "\n",
    "First, import the packages we will be using in this lab:\n",
    "```python\n",
    "import numpy as np\n",
    "import scipy.stats as ss\n",
    "import matplotlib.pyplot as plt\n",
    "```"
   ]
  },
  {
   "cell_type": "code",
   "execution_count": 1,
   "metadata": {},
   "outputs": [],
   "source": [
    "import numpy as np\n",
    "import scipy.stats as ss\n",
    "import matplotlib.pyplot as plt"
   ]
  },
  {
   "cell_type": "markdown",
   "metadata": {},
   "source": [
    "## Performing hypothesis tests using statsmodels\n",
    "\n",
    "We now discuss a software package that will perform hypothesis tests on our data directly (without having to calculate sample means and standard deviations, standardise our variables etc.)\n",
    "\n",
    "### Install statsmodels\n",
    "You first have to install statsmodels, if it is not already installed. The instructions are available at https://www.statsmodels.org/stable/install.html\n",
    "\n",
    "The easiest way might be to use\n",
    "\n",
    "!pip install statsmodels\n",
    "\n",
    "[It may take a while.]\n",
    "\n",
    "Please install statsmodels below."
   ]
  },
  {
   "cell_type": "code",
   "execution_count": 2,
   "metadata": {},
   "outputs": [
    {
     "name": "stdout",
     "output_type": "stream",
     "text": [
      "Requirement already satisfied: statsmodels in /usr/local/lib/python3.11/site-packages (0.14.0)\n",
      "Requirement already satisfied: numpy>=1.18 in /usr/local/lib/python3.11/site-packages (from statsmodels) (1.26.1)\n",
      "Requirement already satisfied: scipy!=1.9.2,>=1.4 in /usr/local/lib/python3.11/site-packages (from statsmodels) (1.11.3)\n",
      "Requirement already satisfied: pandas>=1.0 in /usr/local/lib/python3.11/site-packages (from statsmodels) (2.1.1)\n",
      "Requirement already satisfied: patsy>=0.5.2 in /usr/local/lib/python3.11/site-packages (from statsmodels) (0.5.3)\n",
      "Requirement already satisfied: packaging>=21.3 in /usr/local/lib/python3.11/site-packages (from statsmodels) (23.2)\n",
      "Requirement already satisfied: python-dateutil>=2.8.2 in /usr/local/lib/python3.11/site-packages (from pandas>=1.0->statsmodels) (2.8.2)\n",
      "Requirement already satisfied: pytz>=2020.1 in /usr/local/lib/python3.11/site-packages (from pandas>=1.0->statsmodels) (2023.3.post1)\n",
      "Requirement already satisfied: tzdata>=2022.1 in /usr/local/lib/python3.11/site-packages (from pandas>=1.0->statsmodels) (2023.3)\n",
      "Requirement already satisfied: six in /usr/local/lib/python3.11/site-packages (from patsy>=0.5.2->statsmodels) (1.16.0)\n"
     ]
    }
   ],
   "source": [
    "!pip install statsmodels"
   ]
  },
  {
   "cell_type": "markdown",
   "metadata": {},
   "source": [
    "For the Z-test, we can call the function \n",
    "\n",
    "`statsmodels.stats.weightstats.ztest(x1, x2=None, value=0, alternative='two-sided', usevar='pooled', ddof=1.0)`\n",
    "\n",
    "from the **statsmodels** library. \n",
    "\n",
    "\n",
    "This is to test for mean based on normal distribution, with *one* or *two* samples. (In the case of two samples, the samples are assumed to be independent.)\n",
    "\n",
    "The most important parameters are \n",
    "\n",
    "* x1: array_like,\n",
    "first of the two independent samples\n",
    "\n",
    "* x2: array_like,\n",
    "second of the two independent samples\n",
    "\n",
    "* value: \n",
    " + In the one sample case, value is the mean of x1 under the null hypothesis. \n",
    " + In the two sample case, value is the difference between mean of x1 and mean of x2 under the null hypothesis. The **test statistic** is x1_mean - x2_mean - value.\n",
    "\n",
    "* alternative:  The alternative hypothesis, H1, has to be one of the following\n",
    "\n",
    " + ‘two-sided’: H1: difference in means *not equal* to value (default) \n",
    " + ‘larger’ : H1: difference in means *larger* than value \n",
    " + ‘smaller’ : H1: difference in means *smaller* than value\n",
    "\n",
    "The function returns \n",
    "* tstat, which is the test statistic\n",
    "* pvalue, which is the pvalue of the test statistic\n",
    "\n",
    "More information can be found: \n",
    "\n",
    "https://www.statsmodels.org/devel/generated/statsmodels.stats.weightstats.ztest.html#statsmodels.stats.weightstats.ztest"
   ]
  },
  {
   "cell_type": "markdown",
   "metadata": {},
   "source": [
    "### The one-sample case\n",
    "\n",
    "To test, we generate a random sample from the normal distribution \n",
    "\n",
    "`v1 = np.random.normal(loc=2, size=50)`\n",
    "\n",
    "(recall, this is using `numpy`'s built in random generators - we could use the equivalent `ss.norm.rvs(loc=2, size=50)` instead.)\n",
    "\n",
    "Then you could formulate the hypotheses\n",
    "\n",
    "* $H_0$: mean = 2\n",
    "* $H_1$: mean > 2\n",
    "\n",
    "To test, you can use\n",
    "\n",
    "```python\n",
    "import statsmodels.stats.weightstats as ws\n",
    "print(ws.ztest(v1, value=2, alternative='larger'))\n",
    "```\n",
    "\n",
    "Try it below. "
   ]
  },
  {
   "cell_type": "code",
   "execution_count": 3,
   "metadata": {},
   "outputs": [
    {
     "name": "stdout",
     "output_type": "stream",
     "text": [
      "(1.5397184047111845, 0.061814504294254904)\n"
     ]
    }
   ],
   "source": [
    "import statsmodels.stats.weightstats as ws\n",
    "\n",
    "v1 = np.random.normal(loc=2, size=50)\n",
    "\n",
    "print(ws.ztest(v1, value=2, alternative='larger'))"
   ]
  },
  {
   "cell_type": "markdown",
   "metadata": {},
   "source": [
    "### The two-sample case\n",
    "\n",
    "To test, we generate two random samples from the normal distribution \n",
    "\n",
    "```python\n",
    "v1 = np.random.normal(loc=5, size=1000)\n",
    "v1 = np.random.normal(loc=2, size=1000)\n",
    "```\n",
    "\n",
    "Then you could formulate the hypotheses\n",
    "\n",
    "* H0: mean1-mean2 = 3\n",
    "* H1: mean1-mean2 $\\neq$ 3\n",
    "\n",
    "To test, we could use\n",
    "\n",
    "```python\n",
    "import statsmodels.stats.weightstats as ws\n",
    "print(ws.ztest(v1, v2, value=3, alternative='two-sided'))\n",
    "```\n",
    "\n",
    "Try it below. "
   ]
  },
  {
   "cell_type": "code",
   "execution_count": 4,
   "metadata": {},
   "outputs": [
    {
     "name": "stdout",
     "output_type": "stream",
     "text": [
      "(-3.078402000448739, 0.0020811396657551638)\n"
     ]
    }
   ],
   "source": [
    "v1 = np.random.normal(loc=5, scale=1, size=10)\n",
    "v2 = np.random.normal(loc=2, scale=1, size=10)\n",
    "\n",
    "print(ws.ztest(v1, v2, value=3, alternative='two-sided'))"
   ]
  },
  {
   "cell_type": "markdown",
   "metadata": {},
   "source": [
    "\n",
    "# T-Test\n",
    "\n",
    "When the sample size is relatively small, we can use T-tests.\n",
    "\n"
   ]
  },
  {
   "cell_type": "markdown",
   "metadata": {},
   "source": [
    "\n",
    "### One-sample t-test: testing the value of a population mean\n",
    "\n",
    "`scipy.stats.ttest_1samp()` tests if the population mean of data is likely to be **equal to** a given value (technically if observations are drawn from a Gaussian distributions of given population mean). Note it is a **two-sided** test. It returns the t-statistic, and the p-value.\n",
    "\n",
    "\n",
    "To test, we generate a random sample \n",
    "\n",
    "```python\n",
    "v1 = np.random.normal(loc=2, size=10)\n",
    "```\n",
    "\n",
    "and use \n",
    "\n",
    "```python\n",
    "ss.ttest_1samp(v1, 2)  \n",
    "```\n",
    "\n",
    "to carry out the test."
   ]
  },
  {
   "cell_type": "code",
   "execution_count": 5,
   "metadata": {},
   "outputs": [
    {
     "data": {
      "text/plain": [
       "TtestResult(statistic=2.09186256795348, pvalue=0.06598369992732861, df=9)"
      ]
     },
     "execution_count": 5,
     "metadata": {},
     "output_type": "execute_result"
    }
   ],
   "source": [
    "v1 = np.random.normal(loc=2, size=10)\n",
    "ss.ttest_1samp(v1, 2)"
   ]
  },
  {
   "cell_type": "markdown",
   "metadata": {},
   "source": [
    "### Two-sample t-test: testing for difference across populations\n",
    "\n",
    "The function `ttest_ind()` takes **two** samples of same size and produces a tuple of t-statistic and p-value.\n",
    "\n",
    "This is a **two-sided** test for the null hypothesis that two independent samples have **identical average (expected) values**. This test assumes that the populations have identical variances by default.\n",
    "\n",
    "**Example** Find if the given values v1 and v2 are from same distribution:\n",
    "```python\n",
    "\n",
    "v1 = np.random.normal(size=100)\n",
    "v2 = np.random.normal(size=100)\n",
    "\n",
    "res = ss.ttest_ind(v1, v2)\n",
    "\n",
    "print(res)\n",
    "```\n",
    "\n",
    "If you want to return only the p-value, use the pvalue property:\n",
    "`res = ttest_ind(v1, v2).pvalue`\n"
   ]
  },
  {
   "cell_type": "code",
   "execution_count": 6,
   "metadata": {},
   "outputs": [
    {
     "name": "stdout",
     "output_type": "stream",
     "text": [
      "TtestResult(statistic=-0.6695626952856581, pvalue=0.5039166380308115, df=198.0)\n"
     ]
    }
   ],
   "source": [
    "v1 = np.random.normal(size=100)\n",
    "v2 = np.random.normal(size=100)\n",
    "\n",
    "res = ss.ttest_ind(v1, v2)\n",
    "\n",
    "print(res)"
   ]
  },
  {
   "cell_type": "markdown",
   "metadata": {},
   "source": [
    "## KS-Test\n",
    "\n",
    "KS test is used to check if given values follow a distribution.\n",
    "\n",
    "The function takes the value to be tested, and the CDF as two parameters.\n",
    "\n",
    "```python\n",
    "v = np.random.normal(size=100)\n",
    "res = ss.kstest(v, 'norm')\n",
    "print(res)\n",
    "```\n",
    "\n",
    "Try this below."
   ]
  },
  {
   "cell_type": "code",
   "execution_count": 7,
   "metadata": {},
   "outputs": [
    {
     "name": "stdout",
     "output_type": "stream",
     "text": [
      "KstestResult(statistic=0.08373748966014927, pvalue=0.45997164521544665, statistic_location=-0.34848632863068013, statistic_sign=-1)\n"
     ]
    }
   ],
   "source": [
    "v = np.random.normal(size=100)\n",
    "res = ss.kstest(v, 'norm')\n",
    "print(res)"
   ]
  },
  {
   "cell_type": "markdown",
   "metadata": {},
   "source": [
    "### Normality Tests (Skewness and Kurtosis)\n",
    "\n",
    "Normality tests are based on the skewness and kurtosis.\n",
    "\n",
    "The `scipy.stats.normaltest()` function returns p-value for the null hypothesis:\n",
    "\n",
    "\"x comes from a normal distribution\".\n",
    "\n",
    "\n",
    "```python\n",
    "v = np.random.normal(size=100)\n",
    "print(ss.normaltest(v))\n",
    "```\n",
    "\n",
    "#### Skewness:\n",
    "A measure of symmetry in data.\n",
    "\n",
    "* For normal distributions it is 0.\n",
    "\n",
    "* If it is negative, it means the data is skewed left.\n",
    "\n",
    "* If it is positive it means the data is skewed right.\n",
    "\n",
    "#### Kurtosis:\n",
    "A measure of whether the data is heavy or lightly tailed to a normal distribution.\n",
    "\n",
    "* Positive kurtosis means heavy tailed.\n",
    "\n",
    "* Negative kurtosis means lightly tailed.\n",
    "\n",
    "```python\n",
    "v = np.random.normal(size=100)\n",
    "\n",
    "print(ss.skew(v))\n",
    "print(ss.kurtosis(v))\n",
    "```\n",
    "\n",
    "Try this below."
   ]
  },
  {
   "cell_type": "code",
   "execution_count": 8,
   "metadata": {},
   "outputs": [
    {
     "name": "stdout",
     "output_type": "stream",
     "text": [
      "-0.20918597727111968\n",
      "0.7532343334483582\n"
     ]
    }
   ],
   "source": [
    "v = np.random.normal(size=100)\n",
    "\n",
    "print(ss.skew(v))\n",
    "print(ss.kurtosis(v))"
   ]
  },
  {
   "cell_type": "code",
   "execution_count": 9,
   "metadata": {},
   "outputs": [
    {
     "name": "stdout",
     "output_type": "stream",
     "text": [
      "NormaltestResult(statistic=0.47963007206420355, pvalue=0.7867733723337516)\n"
     ]
    }
   ],
   "source": [
    "v = np.random.normal(size=100)\n",
    "print(ss.normaltest(v))"
   ]
  }
 ],
 "metadata": {
  "kernelspec": {
   "display_name": "Python 3 (ipykernel)",
   "language": "python",
   "name": "python3"
  },
  "language_info": {
   "codemirror_mode": {
    "name": "ipython",
    "version": 3
   },
   "file_extension": ".py",
   "mimetype": "text/x-python",
   "name": "python",
   "nbconvert_exporter": "python",
   "pygments_lexer": "ipython3",
   "version": "3.11.6"
  }
 },
 "nbformat": 4,
 "nbformat_minor": 4
}
