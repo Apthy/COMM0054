{
 "cells": [
  {
   "cell_type": "markdown",
   "metadata": {},
   "source": [
    "# Data Science Principles and Practices Lab Week 2\n",
    "\n",
    "Follow the instructions to complete each of these tasks. This set of exercises looks at Numpy and performing operations on numeric data. Do not worry if you do not complete them all in the timetabled lab session.\n",
    "\n",
    "This is not assessed but will help you gain practical experience for the module exam and coursework.\n",
    "\n",
    "For extra information about the functions provided by numpy, you can search the API documentation here:\n",
    "\n",
    "https://numpy.org/doc/stable/"
   ]
  },
  {
   "cell_type": "markdown",
   "metadata": {},
   "source": [
    "# Numpy\n",
    "\n",
    "Numpy is a Python module for working with many dimensional arrays, performing efficient vectorised operations on them, and linear algebra. It also provides random number generation facilities.\n",
    "\n",
    " - tensorflow functions accept numpy arrays as inputs as well as tensor objects.\n",
    " - pandas can convert data frames or series into numpy arrays.\n",
    " - scikit accepts data passed as numpy arrays.\n",
    "\n",
    "The main feature of numpy is that it provides efficient N-dimensional arrays and operations on them.\n",
    "\n",
    "Numpy is typically imported as *np* to reduce typing.\n",
    "\n",
    "```python\n",
    "import numpy as np\n",
    "```\n",
    "\n",
    "Do this below."
   ]
  },
  {
   "cell_type": "code",
   "execution_count": 1,
   "metadata": {},
   "outputs": [],
   "source": [
    "import numpy as np"
   ]
  },
  {
   "cell_type": "markdown",
   "metadata": {},
   "source": [
    "## Creating arrays\n",
    "\n",
    "numpy arrays are objects of the numpy.array class, which is used to create arrays of any number of dimensions.\n",
    "\n",
    "```python\n",
    "a = np.array([[1,2,3],[4,5,6]])\n",
    "```\n",
    "\n",
    "Arrays can be created from tuples or lists. A single list will construct a one-dimensional array, and a list of lists will create a two dimensional array."
   ]
  },
  {
   "cell_type": "markdown",
   "metadata": {},
   "source": [
    "### Task 1.1\n",
    "\n",
    "Create a two dimensional numpy array, with three rows and two columns, containing the numbers 1 to 6. The ordering of the numbers does not matter, but look at the output to see how the values are arranged.\n",
    "\n",
    "*You can assign your array to a variable, e.g. a = np.array(....). To print out your array, you can then write a as the last line of your Jupyter code cell. Jupyter will print out the value in the last line of the code cell. For example:*\n",
    "\n",
    "```python\n",
    "a = np.array([1,2,3])\n",
    "a\n",
    "```"
   ]
  },
  {
   "cell_type": "code",
   "execution_count": 2,
   "metadata": {},
   "outputs": [
    {
     "data": {
      "text/plain": [
       "array([[1, 2],\n",
       "       [3, 4],\n",
       "       [5, 6]])"
      ]
     },
     "execution_count": 2,
     "metadata": {},
     "output_type": "execute_result"
    }
   ],
   "source": [
    "a = np.array([[1,2],[3,4],[5,6]])\n",
    "a"
   ]
  },
  {
   "cell_type": "markdown",
   "metadata": {},
   "source": [
    "Arrays can also be built using built-in constructors:\n",
    "\n",
    "```python\n",
    "b = np.ones((4,3)) # A 4 by 3 array of the value 1.0\n",
    "c = np.zeros((3,4)) # A 3 by 4 array of the value 0.0\n",
    "```"
   ]
  },
  {
   "cell_type": "markdown",
   "metadata": {},
   "source": [
    "### Task 1.2\n",
    "\n",
    "Try creating an array containing all ones, with 6 rows and 4 columns"
   ]
  },
  {
   "cell_type": "code",
   "execution_count": 3,
   "metadata": {},
   "outputs": [
    {
     "data": {
      "text/plain": [
       "array([[1., 1., 1., 1.],\n",
       "       [1., 1., 1., 1.],\n",
       "       [1., 1., 1., 1.],\n",
       "       [1., 1., 1., 1.],\n",
       "       [1., 1., 1., 1.],\n",
       "       [1., 1., 1., 1.]])"
      ]
     },
     "execution_count": 3,
     "metadata": {},
     "output_type": "execute_result"
    }
   ],
   "source": [
    "b = np.ones((6,4))\n",
    "b"
   ]
  },
  {
   "cell_type": "markdown",
   "metadata": {},
   "source": [
    "## Working with Numpy arrays\n",
    "\n",
    "The shape attribute gives the size of the array in each dimension, and the total number of dimensions.\n",
    "\n",
    "```python\n",
    "a = np.array([[1,2,3],[4,5,6]])\n",
    "a.shape # (2,3)\n",
    "a.ndim # 2\n",
    "a.dtype # dtype('int64')\n",
    "```\n",
    "\n",
    "The dtype attribute tells us the data type of the values stored in the array. This can be specified when creating the array using an additional argument:\n",
    "\n",
    "```python\n",
    "a = np.array([[1,2,3],[4,5,6]],dtype=np.float64)\n",
    "b = np.ones((4,3),dtype=np.int64)\n",
    "```"
   ]
  },
  {
   "cell_type": "markdown",
   "metadata": {},
   "source": [
    "### Task 1.3\n",
    "\n",
    "Check the shape, number of dimensions (ndim) and data type of one of the arrays you created above."
   ]
  },
  {
   "cell_type": "code",
   "execution_count": 4,
   "metadata": {},
   "outputs": [
    {
     "data": {
      "text/plain": [
       "(3, 2)"
      ]
     },
     "execution_count": 4,
     "metadata": {},
     "output_type": "execute_result"
    }
   ],
   "source": [
    "a.shape"
   ]
  },
  {
   "cell_type": "code",
   "execution_count": 5,
   "metadata": {},
   "outputs": [
    {
     "data": {
      "text/plain": [
       "2"
      ]
     },
     "execution_count": 5,
     "metadata": {},
     "output_type": "execute_result"
    }
   ],
   "source": [
    "a.ndim"
   ]
  },
  {
   "cell_type": "code",
   "execution_count": 6,
   "metadata": {},
   "outputs": [
    {
     "data": {
      "text/plain": [
       "dtype('int64')"
      ]
     },
     "execution_count": 6,
     "metadata": {},
     "output_type": "execute_result"
    }
   ],
   "source": [
    "a.dtype"
   ]
  },
  {
   "cell_type": "markdown",
   "metadata": {},
   "source": [
    "## Indexing Numpy arrays\n",
    "\n",
    "Numpy arrays are indexed in a similar way to Python arrays, with $0$ based indexing:\n",
    "\n",
    "```python\n",
    "a = np.array([1,2,3,4,5,6,7,8])\n",
    "a[2:6] # slice from index 2 to 5\n",
    "```\n",
    "\n",
    "*Remember that the slice will go from the first index provided to the index before the last one (e.g. from index 2 to 5 when the range specified is 2:6).*\n",
    "\n",
    "For multidimensional arrays, an index is provided in each dimension, or can be skipped with a single : to return all values in that dimension:\n",
    "\n",
    "```python\n",
    "a = np.arange(1,28).reshape((3,3,3))\n",
    "a[1,:,2] # array([12, 15, 18])\n",
    "```"
   ]
  },
  {
   "cell_type": "code",
   "execution_count": 7,
   "metadata": {},
   "outputs": [
    {
     "data": {
      "text/plain": [
       "array([[[ 1,  2,  3],\n",
       "        [ 4,  5,  6],\n",
       "        [ 7,  8,  9]],\n",
       "\n",
       "       [[10, 11, 12],\n",
       "        [13, 14, 15],\n",
       "        [16, 17, 18]],\n",
       "\n",
       "       [[19, 20, 21],\n",
       "        [22, 23, 24],\n",
       "        [25, 26, 27]]])"
      ]
     },
     "execution_count": 7,
     "metadata": {},
     "output_type": "execute_result"
    }
   ],
   "source": [
    "a = np.arange(1,28).reshape((3,3,3))\n",
    "a"
   ]
  },
  {
   "cell_type": "markdown",
   "metadata": {},
   "source": [
    "### Task 1.4\n",
    "\n",
    "An array b is provided below. Use indexing to return all values in the columns in the range 2 to 4 (inclusive). *You can use the columns at indices 2,3 and 4 - but remember that these will be the third, fourth and fifth columns in the array due to zero based indexing*. "
   ]
  },
  {
   "cell_type": "code",
   "execution_count": 8,
   "metadata": {},
   "outputs": [
    {
     "data": {
      "text/plain": [
       "array([[ 1,  2,  3,  4,  5,  6,  7,  8],\n",
       "       [ 9, 10, 11, 12, 13, 14, 15, 16],\n",
       "       [17, 18, 19, 20, 21, 22, 23, 24],\n",
       "       [25, 26, 27, 28, 29, 30, 31, 32]])"
      ]
     },
     "execution_count": 8,
     "metadata": {},
     "output_type": "execute_result"
    }
   ],
   "source": [
    "b = np.arange(1,33).reshape((4,8))\n",
    "b"
   ]
  },
  {
   "cell_type": "code",
   "execution_count": 9,
   "metadata": {},
   "outputs": [
    {
     "data": {
      "text/plain": [
       "array([[ 3,  4,  5],\n",
       "       [11, 12, 13],\n",
       "       [19, 20, 21],\n",
       "       [27, 28, 29]])"
      ]
     },
     "execution_count": 9,
     "metadata": {},
     "output_type": "execute_result"
    }
   ],
   "source": [
    "# put your answer here:\n",
    "b[:,2:5]"
   ]
  },
  {
   "cell_type": "markdown",
   "metadata": {},
   "source": [
    "## Numpy ranges\n",
    "\n",
    "As you can see in the previous task, to create ranges of values Numpy has an arange function that can be used to create an array filled with a range of values. It takes a starting value, end and step size.\n",
    "\n",
    "```python\n",
    "a = np.arange(2,10,2) # array([2, 4, 6, 8])\n",
    "```\n",
    "\n",
    "These can be reshaped to generate more complex N-dimensional arrays using the reshape method:\n",
    "\n",
    "```python\n",
    "a = np.arange(1,28).reshape(3,3,3)\n",
    "```"
   ]
  },
  {
   "cell_type": "markdown",
   "metadata": {},
   "source": [
    "# Broadcast operations\n",
    "\n",
    "## Elementwise operators\n",
    "\n",
    "The standard arithmetic operators like +,-,/ will act **elementwise** on arrays, and can be broadcast across a whole array.\n",
    "\n",
    "For example, two arrays can be multiplied together *element by element*:\n",
    "\n",
    "```python\n",
    "a = np.arange(1,10).reshape(3,3)\n",
    "b = np.arange(9,0,-1).reshape(3,3)\n",
    "c = a*b\n",
    "# c= array([[ 9, 16, 21],\n",
    "#           [24, 25, 24],\n",
    "#           [21, 16,  9]])\n",
    "```\n",
    "\n",
    "Notice that this is **not** matrix multiplication.\n",
    "\n",
    "\n",
    "\n",
    "Operations like logarithms and exponentials can also be mapped across numpy arrays elementwise, simply by applying them to the array:\n",
    "\n",
    "```python\n",
    "a = np.arange(1,10).reshape(3,3)\n",
    "np.power(a,3)\n",
    "# array([[  1,   8,  27],\n",
    "#        [ 64, 125, 216],\n",
    "#        [343, 512, 729]])\n",
    "```\n",
    "\n",
    "This can be used with many functions including np.log, np.exp, np.power, np.sin}, and np.cos."
   ]
  },
  {
   "cell_type": "markdown",
   "metadata": {},
   "source": [
    "### Task 1.5\n",
    "\n",
    "Try adding each of the values in arrays a and b provided below."
   ]
  },
  {
   "cell_type": "code",
   "execution_count": 10,
   "metadata": {},
   "outputs": [
    {
     "data": {
      "text/plain": [
       "array([[1, 2, 3],\n",
       "       [4, 5, 6],\n",
       "       [7, 8, 9]])"
      ]
     },
     "execution_count": 10,
     "metadata": {},
     "output_type": "execute_result"
    }
   ],
   "source": [
    "a = np.arange(1,10).reshape(3,3)\n",
    "a"
   ]
  },
  {
   "cell_type": "code",
   "execution_count": 11,
   "metadata": {},
   "outputs": [
    {
     "data": {
      "text/plain": [
       "array([[9, 8, 7],\n",
       "       [6, 5, 4],\n",
       "       [3, 2, 1]])"
      ]
     },
     "execution_count": 11,
     "metadata": {},
     "output_type": "execute_result"
    }
   ],
   "source": [
    "b = np.arange(9,0,-1).reshape(3,3)\n",
    "b"
   ]
  },
  {
   "cell_type": "code",
   "execution_count": 12,
   "metadata": {},
   "outputs": [
    {
     "data": {
      "text/plain": [
       "array([[10, 10, 10],\n",
       "       [10, 10, 10],\n",
       "       [10, 10, 10]])"
      ]
     },
     "execution_count": 12,
     "metadata": {},
     "output_type": "execute_result"
    }
   ],
   "source": [
    "c = a+b\n",
    "c"
   ]
  },
  {
   "cell_type": "markdown",
   "metadata": {},
   "source": [
    "# Random numbers in Numpy\n",
    "\n",
    "## Initialising the random number generator\n",
    "\n",
    "We first need to initialise the random number generator, by creating an object that we can use to generate random numbers. *Note this is new in a recent update to Numpy*.\n",
    "\n",
    "```python\n",
    "rng = np.random.default_rng()\n",
    "```\n",
    "\n",
    "Do this below."
   ]
  },
  {
   "cell_type": "code",
   "execution_count": 17,
   "metadata": {},
   "outputs": [],
   "source": [
    "rng = np.random.default_rng()"
   ]
  },
  {
   "cell_type": "markdown",
   "metadata": {},
   "source": [
    "## Generating random values\n",
    "\n",
    "Numpy can generate random numbers from a variety of different distributions, but it can also make random selections or choices from a list of values.\n",
    "\n",
    "```python\n",
    "rng.choice([\"Heads\",\"Tails\"])\n",
    "```\n",
    "\n",
    "Try this below to generate a single random dice roll for a six sided dice. Try running the cell multiple times and see how the output changes."
   ]
  },
  {
   "cell_type": "code",
   "execution_count": 18,
   "metadata": {},
   "outputs": [
    {
     "data": {
      "text/plain": [
       "1"
      ]
     },
     "execution_count": 18,
     "metadata": {},
     "output_type": "execute_result"
    }
   ],
   "source": [
    "rng.choice([1,2,3,4,5,6])"
   ]
  },
  {
   "cell_type": "markdown",
   "metadata": {},
   "source": [
    "## Looping and if statements in Python\n",
    "\n",
    "We can write simple Python loops to perform an operation multiple times using the *for* syntax. To specify the number of times to execute the code in the loop, we can provide a Python *range* object, specifying the number of loops we would like to make.\n",
    "\n",
    "```python\n",
    "for i in range(10): # Loop 10 times\n",
    "    print(i)\n",
    "```\n",
    "\n",
    "Unlike in C or Java where { } are used, **in Python the code to loop over is specificed by indenting the code we would like to be contained within the for loop**.\n",
    "\n",
    "The Python code *range(10)* will produce a range of values from 0 to 9.\n",
    "\n",
    "We can also use *if* statements to perform operations when certain conditions are met:\n",
    "\n",
    "```python\n",
    "if a==\"Heads\":\n",
    "    print(a) # Only run if variable a contains the value \"Heads\"\n",
    "else:\n",
    "    print(\"Not heads\") # Only run if variable a does not contain the value \"Heads\"\n",
    "```\n",
    "\n",
    "**Just as with for loops, we specify the code we would like to execute if the condition is met using indentation.**"
   ]
  },
  {
   "cell_type": "markdown",
   "metadata": {},
   "source": [
    "### Task 2.1\n",
    "\n",
    "Write Python code using a *for* loop and *if* statement to generate random choices between the two values \"Heads\" and \"Tails\", and to count how many times each occurs. Start by doing this for 10 loop iterations, and look at the count of Heads occurring."
   ]
  },
  {
   "cell_type": "code",
   "execution_count": 19,
   "metadata": {},
   "outputs": [
    {
     "name": "stdout",
     "output_type": "stream",
     "text": [
      "Heads: 7\n",
      "Tails: 3\n"
     ]
    }
   ],
   "source": [
    "heads_count = 0\n",
    "tails_count = 0\n",
    "\n",
    "for i in range(10):\n",
    "    coin_toss = rng.choice([\"Heads\",\"Tails\"])\n",
    "    if coin_toss==\"Heads\":\n",
    "        heads_count += 1\n",
    "    else:\n",
    "        tails_count += 1\n",
    "\n",
    "print(\"Heads: \"+str(heads_count))\n",
    "print(\"Tails: \"+str(tails_count))"
   ]
  },
  {
   "cell_type": "markdown",
   "metadata": {},
   "source": [
    "Now run your code again but using 10000 iterations. You should notice that the final count of heads is closer to what we would expect in theory - roughly half of the 10000 simulated coin tosses."
   ]
  },
  {
   "cell_type": "code",
   "execution_count": 20,
   "metadata": {},
   "outputs": [
    {
     "name": "stdout",
     "output_type": "stream",
     "text": [
      "Heads: 4978\n",
      "Tails: 5022\n"
     ]
    }
   ],
   "source": [
    "heads_count = 0\n",
    "tails_count = 0\n",
    "\n",
    "for i in range(10000):\n",
    "    coin_toss = rng.choice([\"Heads\",\"Tails\"])\n",
    "    if coin_toss==\"Heads\":\n",
    "        heads_count += 1\n",
    "    else:\n",
    "        tails_count += 1\n",
    "\n",
    "print(\"Heads: \"+str(heads_count))\n",
    "print(\"Tails: \"+str(tails_count))"
   ]
  },
  {
   "cell_type": "markdown",
   "metadata": {},
   "source": [
    "### Task 2.2\n",
    "\n",
    "Now write a Python for loop to roll a dice 4 times, and count the number of times the value 6 occurs."
   ]
  },
  {
   "cell_type": "code",
   "execution_count": 27,
   "metadata": {},
   "outputs": [
    {
     "data": {
      "text/plain": [
       "1"
      ]
     },
     "execution_count": 27,
     "metadata": {},
     "output_type": "execute_result"
    }
   ],
   "source": [
    "six_count = 0\n",
    "for i in range(4):\n",
    "    roll = rng.choice([1,2,3,4,5,6])\n",
    "    if roll==6:\n",
    "        six_count += 1\n",
    "six_count"
   ]
  },
  {
   "cell_type": "markdown",
   "metadata": {},
   "source": [
    "We can also generate a numpy array of random values rather than a single output using rng.choice:\n",
    "\n",
    "```python\n",
    "dice_rolls = rng.choice([1,2,3,4,5,6],size=4) # Generate 4 random choices from [1,2,3,4,5,6]\n",
    "```"
   ]
  },
  {
   "cell_type": "markdown",
   "metadata": {},
   "source": [
    "### Task 2.3\n",
    "\n",
    "Try to use rng.choice to generate 1000000 coin tosses, and use numpy broadcasting to count the number of heads that occur. *Remember that you can use np.sum on an array of True or False values to count the number of times True occurs, and you can broadcast comparisons such as == over numpy arrays*"
   ]
  },
  {
   "cell_type": "code",
   "execution_count": 22,
   "metadata": {},
   "outputs": [
    {
     "data": {
      "text/plain": [
       "500558"
      ]
     },
     "execution_count": 22,
     "metadata": {},
     "output_type": "execute_result"
    }
   ],
   "source": [
    "# A more efficient version of this could be to encode Heads as 1 and Tails as 0.\n",
    "# This will mean numpy can work with integer variables for the coin tosses rather than strings.\n",
    "coin_tosses = rng.choice([\"Heads\",\"Tails\"],size=1000000)\n",
    "np.sum(coin_tosses==\"Heads\")"
   ]
  },
  {
   "cell_type": "markdown",
   "metadata": {},
   "source": [
    "Go back to your coin tossing code using a for loop above, and try running this for 1000000 coin tosses. Is using broadcasting in numpy faster or slower?"
   ]
  },
  {
   "cell_type": "code",
   "execution_count": 23,
   "metadata": {},
   "outputs": [
    {
     "name": "stdout",
     "output_type": "stream",
     "text": [
      "Heads: 500330\n",
      "Tails: 499670\n"
     ]
    }
   ],
   "source": [
    "heads_count = 0\n",
    "tails_count = 0\n",
    "\n",
    "for i in range(1000000):\n",
    "    coin_toss = rng.choice([\"Heads\",\"Tails\"])\n",
    "    if coin_toss==\"Heads\":\n",
    "        heads_count += 1\n",
    "    else:\n",
    "        tails_count += 1\n",
    "\n",
    "print(\"Heads: \"+str(heads_count))\n",
    "print(\"Tails: \"+str(tails_count))"
   ]
  }
 ],
 "metadata": {
  "kernelspec": {
   "display_name": "Python 3 (ipykernel)",
   "language": "python",
   "name": "python3"
  },
  "language_info": {
   "codemirror_mode": {
    "name": "ipython",
    "version": 3
   },
   "file_extension": ".py",
   "mimetype": "text/x-python",
   "name": "python",
   "nbconvert_exporter": "python",
   "pygments_lexer": "ipython3",
   "version": "3.10.13"
  }
 },
 "nbformat": 4,
 "nbformat_minor": 4
}
