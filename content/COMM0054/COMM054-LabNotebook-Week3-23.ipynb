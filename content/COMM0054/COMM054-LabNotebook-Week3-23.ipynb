{
 "cells": [
  {
   "cell_type": "markdown",
   "metadata": {},
   "source": [
    "# Data Science Principles and Practices (COMM054) Lab Week 3\n",
    "\n",
    "Please read this handout carefully, and attempt the tasks. You are advised to \"play\" with the given Python code to understand what it is doing. This set of exercises focuses on writing basic Python code to visualise data by Matplotlib. Do not worry if you do not complete them all in the timetabled lab session.\n",
    "\n",
    "This is not assessed but will help you gain practical experience for the module exam and coursework.\n",
    "\n",
    "You may need to download some of the csv data set files from the module SurreyLearn page and place them in the same folder as this notebook.\n",
    "\n",
    "For extra information about the functions provided by Matplotlib, you can search the API documentation here:\n",
    "\n",
    "https://matplotlib.org/api/index.html"
   ]
  },
  {
   "cell_type": "markdown",
   "metadata": {},
   "source": [
    "## Matplotlib"
   ]
  },
  {
   "cell_type": "markdown",
   "metadata": {},
   "source": [
    "A wide variety of tools exist for visualising data. The matplotlib library (http://matplotlib.org/) is a comprehensive library for creating static, animated, and interactive visualisations in Python. It is widely used for producing, for instance, simple bar charts, line charts and scatter-plots. (However, if you are interested in producing elaboratre interactive visualisation for the Web, it is probably *not* the right choice.)"
   ]
  },
  {
   "cell_type": "markdown",
   "metadata": {},
   "source": [
    "## General Concepts\n",
    "\n",
    "A Matplotlib figure can be categorised into several parts.\n",
    "\n",
    "* **Figure**: It is a whole figure which may contain one or more than one Axes (plots). You can think of a Figure as a canvas which contains plots.\n",
    "\n",
    "* **Axes**: It is what we generally think of as a plot. A Figure can contain many Axes. Each Axes contains two or three (in the case of 3D) Axis objects and has a title, an x-label and a y-label.\n",
    "\n",
    "* **Axis**: They are the number-line like objects and take care of generating the graph limits.\n",
    "\n",
    "* **Artist**: Everything which one can see on the figure is an artist like Text objects, Line2D objects, collection objects. Most Artists are tied to Axes.\n",
    "\n",
    "In general, Matplotlib graphs your data on Figures (i.e., windows, Jupyter widgets, etc.), each of which can contain one or more Axes (i.e., an area where points can be specified in terms of x-y coordinates (or $\\theta$-r in a polar plot, or x-y-z in a 3D plot, etc.). "
   ]
  },
  {
   "cell_type": "markdown",
   "metadata": {},
   "source": [
    "We start some basic usage patterns and best-practices to help get started with Matplotlib. We will be using the **matplotlib.pyplot** module, which provides simple functions to add plot elements like lines, images, text, etc. to the current Axes in the current Figure. \n",
    "\n",
    "In its simplest use, pyplot maintains an internal state in which you build up visualisation step by step. Once you are done, you can save it (by `savefig()`) or display it (by `show()`). \n"
   ]
  },
  {
   "cell_type": "markdown",
   "metadata": {},
   "source": [
    "You can import Matplotlib's Pyplot module and the Numpy library (as most of the data that we will be working with will be in the form of arrays)\n",
    "\n",
    "```python\n",
    "import matplotlib.pyplot as plt\n",
    "import numpy as np\n",
    "```\n",
    "\n",
    "Use the code cell below to import the libraries."
   ]
  },
  {
   "cell_type": "code",
   "execution_count": null,
   "metadata": {},
   "outputs": [],
   "source": []
  },
  {
   "cell_type": "markdown",
   "metadata": {},
   "source": [
    "### Getting started\n",
    "\n",
    "We pass two arrays as our input arguments to Pyplot’s `plot()` method and use `show()` method to invoke the required plot. Here note that the first array appears on the x-axis and second array appears on the y-axis of the plot. \n",
    "\n",
    "```python\n",
    "plt.plot([1, 2, 3, 4], [1, 4, 9, 16])  \n",
    "plt.show()\n",
    "```\n",
    "\n",
    "Try to plot in the next cell *two arrays each with length of 6*. (You choose your arrays.)"
   ]
  },
  {
   "cell_type": "code",
   "execution_count": null,
   "metadata": {},
   "outputs": [],
   "source": []
  },
  {
   "cell_type": "markdown",
   "metadata": {},
   "source": [
    "Now our first plot is ready, let's add the title, and name x-axis and y-axis using methods `title()`, `xlabel()` and `ylabel()` respectively. \n",
    "\n",
    "```python\n",
    "plt.plot([1, 2, 3, 4], [1, 4, 9, 16])  \n",
    "plt.title(\"First Plot\")\n",
    "plt.xlabel(\"X label\")\n",
    "plt.ylabel(\"Y label\")\n",
    "plt.show()\n",
    "```\n",
    "\n",
    "Add a title, and x- and y-axis labels on the plot you have created in the last cell."
   ]
  },
  {
   "cell_type": "code",
   "execution_count": null,
   "metadata": {},
   "outputs": [],
   "source": []
  },
  {
   "cell_type": "markdown",
   "metadata": {},
   "source": [
    "We can also specify the size of the figure using method `figure()` and passing the values as a tuple of **the length of rows and columns** to the argument `figsize`\n",
    "\n",
    "```python\n",
    "plt.figure(figsize=(15,5))\n",
    "plt.plot([1, 2, 3, 4], [1, 4, 9, 16]) \n",
    "plt.show()\n",
    "```\n",
    "\n",
    "Try this below with different figure sizes. "
   ]
  },
  {
   "cell_type": "code",
   "execution_count": null,
   "metadata": {},
   "outputs": [],
   "source": []
  },
  {
   "cell_type": "markdown",
   "metadata": {},
   "source": [
    "With every X and Y argument, you can also pass an optional third argument in the form of a string which indicates the colour and line type of the plot. The default format is **b-** which means a solid blue line. We could use **go** which means green circles. Likewise we can make many such **colour-marker** combinations to format out plot.\n",
    "\n",
    "`plt.plot([1, 2, 3, 4], [1, 4, 9, 16],'go')`\n",
    "\n",
    "This is the short way of writing\n",
    "\n",
    "`plt.plot([1, 2, 3, 4], [1, 4, 9, 16], color='green', marker='o')`\n",
    "\n",
    "The built-in colours are\n",
    "\n",
    "- **b**: blue\n",
    "\n",
    "- **g**: green\n",
    "\n",
    "- **r**: red\n",
    "\n",
    "- **c**: cyan\n",
    "\n",
    "- **m**: magenta\n",
    "\n",
    "- **y**: yellow\n",
    "\n",
    "- **k**: black\n",
    "\n",
    "- **w**: white\n",
    "\n",
    "The marker shapes of a data point can be found at https://matplotlib.org/3.1.0/api/markers_api.html\n",
    "\n",
    "Some combinations can be \n",
    "\n",
    "- **yH**: yellow hexagon\n",
    "\n",
    "- **kv**: black triangle down\n",
    "\n",
    "- **m***: magenta star\n",
    "\n",
    "Try more colour-marker combinations for your plot below."
   ]
  },
  {
   "cell_type": "code",
   "execution_count": null,
   "metadata": {},
   "outputs": [],
   "source": []
  },
  {
   "cell_type": "markdown",
   "metadata": {},
   "source": [
    "We can also plot **multiple** sets of data by passing in multiple set of arguments of X and Y axis in the `plot()` method. \n",
    "\n",
    "It is done by adding the *first* set of data with its markers' colour and shape definition, followed by the *second* set of data with its markers' definition, and followed by more sets of data with their markers' definition.\n",
    "\n",
    "```python\n",
    "import numpy as np\n",
    "import matplotlib.pyplot as plt\n",
    "\n",
    "x = np.arange(1,5)\n",
    "y = x**3\n",
    "plt.plot([1, 2, 3, 4], [1, 4, 9, 16], \"go\", x, y, \"r^\")  \n",
    "plt.title(\"First Plot\")\n",
    "plt.xlabel(\"X label\")\n",
    "plt.ylabel(\"Y label\")\n",
    "plt.show()\n",
    "```\n",
    "\n",
    "Try it below. "
   ]
  },
  {
   "cell_type": "code",
   "execution_count": null,
   "metadata": {
    "scrolled": false
   },
   "outputs": [],
   "source": []
  },
  {
   "cell_type": "markdown",
   "metadata": {},
   "source": [
    "You can look at https://matplotlib.org/3.3.2/api/_as_gen/matplotlib.pyplot.plot.html for more arguments of `matplotlib.pyplot.plot`"
   ]
  },
  {
   "cell_type": "markdown",
   "metadata": {},
   "source": [
    "### Task 1.1\n",
    "\n",
    "Suppose that we have the gdp data for two countries: \n",
    "\n",
    "* 1950: 300.2\n",
    "* 1960: 543.3\n",
    "* 1970: 1075.9\n",
    "* 1980: 2862.5\n",
    "* 1990: 5979.6\n",
    "* 2000: 10286.7\n",
    "* 2010: 14958.3\n",
    "\n",
    "and \n",
    "\n",
    "* 1950: 200.2\n",
    "* 1960: 563.3\n",
    "* 1970: 1015.9\n",
    "* 1980: 2962.5\n",
    "* 1990: 5179.6\n",
    "* 2000: 10786.7\n",
    "* 2010: 14928.3\n",
    " \n",
    "\n",
    "Create a line chart to show the gdp data, years on x-axis, gdp on y-axis, with title Nomial GDP. "
   ]
  },
  {
   "cell_type": "code",
   "execution_count": null,
   "metadata": {},
   "outputs": [],
   "source": [
    "# Data:\n",
    "years = [1950, 1960, 1970, 1980, 1990, 2000, 2010]\n",
    "gdp = [300.2, 543.3, 1075.9, 2862.5, 5979.6, 10286.7, 14958.3]\n",
    "gdp2 = [200.2, 563.3, 1015.9, 2962.5, 5179.6, 10786.7, 14928.3]\n",
    "\n",
    "# Write plotting code below:"
   ]
  },
  {
   "cell_type": "markdown",
   "metadata": {},
   "source": [
    "## Creating different types of graphs with Pyplot"
   ]
  },
  {
   "cell_type": "markdown",
   "metadata": {},
   "source": [
    "## Bar graphs\n",
    "\n",
    "Bar graphs are one of the most common types of graphs and are used to show data associated with the categorical variables. Pyplot provides a method `bar()` to make bar graphs which take arguments: categorical variables, their values and color (if you want to specify any).\n",
    "\n",
    "```python\n",
    "divisions = [\"Div-A\", \"Div-B\", \"Div-C\", \"Div-D\", \"Div-E\"]\n",
    "division_average_marks = [70, 82, 73, 65, 68]\n",
    "\n",
    "plt.bar(divisions, division_average_marks, color='green')\n",
    "plt.title(\"Bar Graph\")\n",
    "plt.xlabel(\"Divisions\")\n",
    "plt.ylabel(\"Marks\")\n",
    "plt.show()\n",
    "```\n",
    "Try this below.\n",
    "\n",
    "Then add two more divisions with average marks 78 and 60, respectively. Change the colour to be blue.  "
   ]
  },
  {
   "cell_type": "code",
   "execution_count": null,
   "metadata": {
    "scrolled": true
   },
   "outputs": [],
   "source": []
  },
  {
   "cell_type": "markdown",
   "metadata": {},
   "source": [
    "### Task 1.2\n",
    "\n",
    "Recall the diamonds dataset which you have used in the first lab. Draw a bar graph to show the number of diamonds in the dataset for each unique value in the \"cut\" column. "
   ]
  },
  {
   "cell_type": "code",
   "execution_count": null,
   "metadata": {},
   "outputs": [],
   "source": []
  },
  {
   "cell_type": "markdown",
   "metadata": {},
   "source": [
    "## Histogram\n",
    "\n",
    "Histograms are a very common type of plots when we are looking at data like height and weight, stock prices, waiting time for a customer, etc which are **continuous** in nature. \n",
    "\n",
    "Histogram’s data is plotted within a range against its frequency. Histograms are very commonly occurring graphs in probability and statistics and form the basis for various distributions (see below). \n",
    "\n",
    "In the following example, we generate a random continuous data of 1000 entries and plot it against its frequency with the data divided into 10 equal strata. We have used NumPy’s `random.randn()` method which generates data with the properties of a standard normal distribution (i.e. mean = 0 and standard deviation = 1), and hence the histogram looks like a normal distribution curve.\n",
    "\n",
    "```python\n",
    "\n",
    "x = np.random.randn(10000)\n",
    "plt.title(\"Histogram\")\n",
    "plt.xlabel(\"Random Data\")\n",
    "plt.ylabel(\"Frequency\")\n",
    "plt.hist(x, 10) # 10 bins, each bin stands for an equal-distance range. Some range might not have a value though.\n",
    "plt.show()\n",
    "```"
   ]
  },
  {
   "cell_type": "code",
   "execution_count": null,
   "metadata": {
    "scrolled": true
   },
   "outputs": [],
   "source": []
  },
  {
   "cell_type": "markdown",
   "metadata": {},
   "source": [
    "For comparison, you can also try\n",
    "\n",
    "`plt.hist(x, 10, histtype='step')`\n",
    "\n",
    "The `histtype='step'` draws the outline of the histogram."
   ]
  },
  {
   "cell_type": "code",
   "execution_count": null,
   "metadata": {},
   "outputs": [],
   "source": []
  },
  {
   "cell_type": "markdown",
   "metadata": {},
   "source": [
    "### Task 1.3\n",
    "\n",
    "Draw a histogram to show the distribution of the price for the diamonds whose carat is greater than 2. \n",
    "\n",
    "You may choose the number of bins. Add the title and x- and y-labels."
   ]
  },
  {
   "cell_type": "code",
   "execution_count": null,
   "metadata": {},
   "outputs": [],
   "source": [
    "\n"
   ]
  },
  {
   "cell_type": "markdown",
   "metadata": {},
   "source": [
    "### Task 1.3.5\n",
    "\n",
    "For fun, compare with the distribution of price for the diamons whose carat is less than or equal to 2. \n",
    "\n",
    "Use 50 bins. \n",
    "\n",
    "Add title and x- and y-labels."
   ]
  },
  {
   "cell_type": "code",
   "execution_count": null,
   "metadata": {},
   "outputs": [],
   "source": []
  },
  {
   "cell_type": "markdown",
   "metadata": {},
   "source": [
    "## Scatter Plots\n",
    "\n",
    "Scatter plots are widely used graphs, especially they come in handy in visualising a problem of regression. \n",
    "\n",
    "In the following example, we feed in arbitrarily created data of height and weight and plot them against each other. We used `xlim()` and `ylim()` methods to set the limits of X-axis and Y-axis respectively.\n",
    "\n",
    "```python\n",
    "height = np.array([167, 170, 149, 165, 155, 180, 166, 146, 159, 185, 145, 168, 172, 181, 169])\n",
    "weight = np.array([67, 74, 66, 78, 68, 79, 90, 73, 70, 88, 66, 84, 67, 84, 77])\n",
    "\n",
    "plt.xlim(140, 200)\n",
    "plt.ylim(60, 100)\n",
    "plt.scatter(height, weight)   # x-axis (height) goes first\n",
    "plt.title(\"Scatter Plot\")\n",
    "plt.xlabel(\"Height\")\n",
    "plt.ylabel(\"Weight\")\n",
    "plt.show()\n",
    "```\n",
    "\n",
    "Try it yourself. "
   ]
  },
  {
   "cell_type": "code",
   "execution_count": null,
   "metadata": {},
   "outputs": [],
   "source": []
  },
  {
   "cell_type": "markdown",
   "metadata": {},
   "source": [
    "### Task 1.4\n",
    "\n",
    "Again work on the diamonds dataset. Please plot the carat (x-axis) and the price (y-axis) of those diamonds in the dataset whose carat is greater than 3. Add title and x- and y-labels. "
   ]
  },
  {
   "cell_type": "code",
   "execution_count": null,
   "metadata": {},
   "outputs": [],
   "source": [
    "\n"
   ]
  },
  {
   "cell_type": "markdown",
   "metadata": {},
   "source": [
    "## Summary\n",
    "\n",
    "There are *many more* charts and plots (such as pie chart, 3D scatterplots) which are not covered here. Please explore yourself. \n",
    "\n",
    "https://matplotlib.org/api/pyplot_summary.html\n",
    "\n",
    "Here is the list of some commonly used methods.\n",
    "\n",
    "* plot(x-axis values, y-axis values) — plots a simple line graph with x-axis values against y-axis values\n",
    "* show() — displays the graph\n",
    "* title(“string”) — set the title of the plot as specified by the string\n",
    "* xlabel(“string”) — set the label for x-axis as specified by the string\n",
    "* ylabel(“string”) — set the label for y-axis as specified by the string\n",
    "* figure() — used to control a figure level attributes\n",
    "* subplot(nrows, ncols, index) — Add a subplot to the current figure\n",
    "* suptitle(“string”) — It adds a common title to the figure specified by the string\n",
    "* subplots(nrows, ncols, figsize) — a convenient way to create subplots, in a single call. It returns a tuple of a figure and number of axes.\n",
    "* set_title(“string”) — an axes level method used to set the title of subplots in a figure\n",
    "* bar(categorical variables, values, color) — used to create vertical bar graphs\n",
    "* barh(categorical variables, values, color) — used to create horizontal bar graphs\n",
    "* legend(loc) — used to make legend of the graph\n",
    "* xticks(index, categorical variables) — Get or set the current tick locations and labels of the x-axis\n",
    "* pie(value, categorical variables) — used to create a pie chart\n",
    "* hist(values, number of bins) — used to create a histogram\n",
    "* xlim(start value, end value) — used to set the limit of values of the x-axis\n",
    "* ylim(start value, end value) — used to set the limit of values of the y-axis\n",
    "* scatter(x-axis values, y-axis values) — plots a scatter plot with x-axis values against y-axis values\n",
    "* axes() — adds an axes to the current figure\n",
    "* set_xlabel(“string”) — axes level method used to set the x-label of the plot specified as a string\n",
    "* set_ylabel(“string”) — axes level method used to set the y-label of the plot specified as a string\n",
    "* scatter3D(x-axis values, y-axis values) — plots a three-dimensional scatter plot with x-axis values against y-axis values\n",
    "* plot3D(x-axis values, y-axis values) — plots a three-dimensional line graph with x-axis values against y-axis values"
   ]
  },
  {
   "cell_type": "markdown",
   "metadata": {},
   "source": [
    "# Visualise Commonly Used Probability Distributions\n",
    "\n",
    "There are at least two ways to draw samples from probability distributions in Python. \n",
    "\n",
    "One way to generate random numbers or draw samples from multiple probability distributions in Python is to use NumPy’s random module.  \n",
    "\n",
    "Another way is to use Python’s SciPy package to generate random numbers from probability distributions. (We will see this next week.)\n",
    "\n",
    "Here we will draw random numbers from some most commonly used probability distributions using Numpy. These probability distributions will be visualised.\n",
    "\n"
   ]
  },
  {
   "cell_type": "markdown",
   "metadata": {},
   "source": [
    "Among others, numpy provides a list of methods to draw random samples from distributions. \n",
    "\n",
    "* binomial(n, p[, size]):\tDraw samples from a binomial distribution.\n",
    "\n",
    "* exponential([scale, size]):\tDraw samples from an exponential distribution.\n",
    "\n",
    "* geometric(p[, size]):\tDraw samples from the geometric distribution.\n",
    "\n",
    "* normal([loc, scale, size]):\tDraw random samples from a normal (Gaussian) distribution.\n",
    "\n",
    "* poisson([lam, size]):\tDraw samples from a Poisson distribution.\n",
    "\n",
    "* standard_normal([size]):\tDraw samples from a standard Normal distribution (mean=0, stdev=1).\n",
    "\n",
    "* uniform([low, high, size]):\tDraw samples from a uniform distribution.\n",
    "\n",
    "More can be found at https://numpy.org/doc/stable/reference/random/generator.html#distributions"
   ]
  },
  {
   "cell_type": "markdown",
   "metadata": {},
   "source": [
    "As an example, you can visualise the normal distribution:\n",
    "\n",
    "```python\n",
    "rng = np.random.default_rng()\n",
    "x = rng.normal(5.0, 1.0, 100000) # mu=5.0, sigma=1.0, 100000 data points\n",
    "plt.hist(x, 100)      # histogram with 100 bins\n",
    "plt.show()\n",
    "```\n",
    "\n",
    "You can try yourself. "
   ]
  },
  {
   "cell_type": "code",
   "execution_count": null,
   "metadata": {
    "scrolled": true
   },
   "outputs": [],
   "source": []
  },
  {
   "cell_type": "markdown",
   "metadata": {},
   "source": [
    "For the generated random sample, compute its mean. Compare the result with the expectation of the normal distribution (mu = 5.0).\n",
    "\n",
    "You can use `np.mean(x)` "
   ]
  },
  {
   "cell_type": "code",
   "execution_count": null,
   "metadata": {},
   "outputs": [],
   "source": []
  },
  {
   "cell_type": "markdown",
   "metadata": {},
   "source": [
    "### Task 2.1 \n",
    "Visualise the binomial distribution for n=100, p=0.8, and compare the mean of the sample with the expectation. (You can vary the parameters.)"
   ]
  },
  {
   "cell_type": "code",
   "execution_count": null,
   "metadata": {},
   "outputs": [],
   "source": []
  },
  {
   "cell_type": "markdown",
   "metadata": {},
   "source": [
    "### Task 2.2 \n",
    "\n",
    "Visualise two normal distributions: one with mu=1, sigma=0.5; the other with mu=4, sigma=3. \n",
    "\n",
    "To make it clear, you can first try\n",
    "\n",
    "```python\n",
    "rng = np.random.default_rng()\n",
    "normal_1 = rng.normal(1.0, 0.5, 100000)\n",
    "plt.hist(normal_1, bins=50, histtype='step')\n",
    "plt.show()\n",
    "```\n",
    "\n",
    "Then try to plot two distributions on the same plot."
   ]
  },
  {
   "cell_type": "code",
   "execution_count": null,
   "metadata": {},
   "outputs": [],
   "source": []
  },
  {
   "cell_type": "markdown",
   "metadata": {},
   "source": [
    "### Task 2.3\n",
    "\n",
    "Visualise the Possion distribution. Choose the parameter yourself. Compare the mean of the sample with the expectation."
   ]
  },
  {
   "cell_type": "code",
   "execution_count": null,
   "metadata": {},
   "outputs": [],
   "source": []
  },
  {
   "cell_type": "markdown",
   "metadata": {},
   "source": [
    "### Task 2.4\n",
    "\n",
    "Visualise the exponential distribution. Choose the parameter yourself. Compare the mean of the sample with the expectation."
   ]
  },
  {
   "cell_type": "code",
   "execution_count": null,
   "metadata": {},
   "outputs": [],
   "source": []
  },
  {
   "cell_type": "markdown",
   "metadata": {},
   "source": [
    "### Task 2.5\n",
    "\n",
    "Visualise the geometric distribution. Choose the parameter yourself. Compare the mean of the sample with the expectation."
   ]
  },
  {
   "cell_type": "code",
   "execution_count": null,
   "metadata": {},
   "outputs": [],
   "source": []
  },
  {
   "cell_type": "markdown",
   "metadata": {},
   "source": [
    "### Task 2.6\n",
    "\n",
    "Visualise the uniform distribution. Choose the parameter yourself. Compare the mean of the sample with the expectation."
   ]
  },
  {
   "cell_type": "code",
   "execution_count": null,
   "metadata": {},
   "outputs": [],
   "source": []
  },
  {
   "cell_type": "markdown",
   "metadata": {},
   "source": [
    "### Task 2.7*\n",
    "\n",
    "This is an optional extra. You can use a for loop to implement this.\n",
    "\n",
    "Assume that a tornado happens on any given day with probability 0.01. In 1000000 days, how many times does a tornado strike in two consecutive days? Try to sample from a Bernoulli (or Binomial) distribution to estimate an answer."
   ]
  },
  {
   "cell_type": "code",
   "execution_count": null,
   "metadata": {},
   "outputs": [],
   "source": []
  }
 ],
 "metadata": {
  "kernelspec": {
   "display_name": "Python 3 (ipykernel)",
   "language": "python",
   "name": "python3"
  },
  "language_info": {
   "codemirror_mode": {
    "name": "ipython",
    "version": 3
   },
   "file_extension": ".py",
   "mimetype": "text/x-python",
   "name": "python",
   "nbconvert_exporter": "python",
   "pygments_lexer": "ipython3",
   "version": "3.10.13"
  }
 },
 "nbformat": 4,
 "nbformat_minor": 2
}
