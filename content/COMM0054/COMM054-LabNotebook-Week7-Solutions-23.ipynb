{
 "cells": [
  {
   "cell_type": "markdown",
   "metadata": {},
   "source": [
    "# Data Science Principles and Practices Lab Week 7\n",
    "\n",
    "Follow the instructions to complete each of these tasks. This set of exercises looks at MAP inference and an application of Naive Bayes classification. Do not worry if you do not complete them all in the timetabled lab session.\n",
    "\n",
    "This is not assessed but will help you gain practical experience for the module exam and coursework."
   ]
  },
  {
   "cell_type": "markdown",
   "metadata": {},
   "source": [
    "First import the Python libraries we will be using this week by running the cell below:"
   ]
  },
  {
   "cell_type": "code",
   "execution_count": 3,
   "metadata": {},
   "outputs": [],
   "source": [
    "import numpy as np\n",
    "import matplotlib.pyplot as plt\n",
    "from scipy.optimize import minimize\n",
    "from scipy.stats import norm"
   ]
  },
  {
   "cell_type": "markdown",
   "metadata": {},
   "source": [
    "# Maximum Likelihood and MAP inference\n",
    "\n",
    "In the first part of this notebook, we will look at performing maximum likelihood and MAP inference on some synthetic data we have generated.\n",
    "\n",
    "To do this we will use the numpy random number generation functions to generate random samples from a normal distribution, with a known mean and standard deviation.\n",
    "\n",
    "The code below generates 5 random samples from a normal distribution with mean 10 and standard deviation 1. We will then use this data as if we had observed it without knowing the mean, and try to infer the mean from the data.\n",
    "\n",
    "To make it easier to debug code and visualise the results, the *seed* of the random number generator is fixed in the code cell below. This means that the random values generated will always be the same, even if the code is run multiple times. You should not usually do this, unless you are debugging code to reproduce an error."
   ]
  },
  {
   "cell_type": "code",
   "execution_count": 2,
   "metadata": {},
   "outputs": [
    {
     "data": {
      "text/plain": [
       "array([10.32711283,  8.42770783,  9.05873434, 11.86812946, 10.96743478])"
      ]
     },
     "execution_count": 2,
     "metadata": {},
     "output_type": "execute_result"
    }
   ],
   "source": [
    "np.random.seed(7012)\n",
    "\n",
    "N = 5 # sample size\n",
    "mu = 10 # population mean\n",
    "sigma = 1 # population standard diviation\n",
    "\n",
    "x = np.random.normal(loc=mu, scale=sigma, size=N)\n",
    "x"
   ]
  },
  {
   "cell_type": "markdown",
   "metadata": {},
   "source": [
    "## Maximum likelihood inference\n",
    "\n",
    "First we will consider maximum likelihood inference, using the approach described in the lectures for week 7. Instead of using the fit() method of the scipy normal distribution, we will try to maximise the logarithm of the likelihood, by writing a Python function that returns the *negative* log likelihood, and minimising it."
   ]
  },
  {
   "cell_type": "markdown",
   "metadata": {},
   "source": [
    "### Task 1.1\n",
    "\n",
    "Write Python code to calculate the logarithm of the likelihood of the data points in x, for a normal distribution with mean equal to 7.0, and standard deviation 1.0. You can use the scipy method\n",
    "\n",
    "```python\n",
    "norm.logpdf(x,loc=mean,scale=sd)\n",
    "```\n",
    "\n",
    "to calculate an array of the logarithm of $p(x_i|\\mu,\\sigma)$ for each value $x_i$ in the array $x$. You might want to look at the output of the norm.logpdf() method to see the array that is produced.\n",
    "\n",
    "The next step is to add these up, using the np.sum() method, as to find the logarithm of the likelihood, we replace the product (multiplication) in the likelihood with the sum:\n",
    "\n",
    "$\\log p(x|\\mu,\\sigma) = \\sum_i \\log p(x_i|\\mu,\\sigma)$"
   ]
  },
  {
   "cell_type": "code",
   "execution_count": 3,
   "metadata": {},
   "outputs": [
    {
     "data": {
      "text/plain": [
       "-32.98751251589202"
      ]
     },
     "execution_count": 3,
     "metadata": {},
     "output_type": "execute_result"
    }
   ],
   "source": [
    "l = norm.logpdf(x,loc=7,scale=1.0)\n",
    "np.sum(l)"
   ]
  },
  {
   "cell_type": "markdown",
   "metadata": {},
   "source": [
    "### Task 1.2\n",
    "\n",
    "Now we will use this Python code to build a Python function that returns the *negative* log likelihood of the data, for a particular value of the mean of our normal distribution. **We will assume that the standard deviation is known and is fixed at 1.0**\n",
    "\n",
    "As a reminder, to define a function in Python, we used the *def* keyword, and specify any arguments we wish to provide to the function, and the return value:\n",
    "\n",
    "```python\n",
    "def f(mu):\n",
    "    loglikelihood = mu # This is just an example! Enter the correct code here\n",
    "    return loglikelihood\n",
    "```\n",
    "\n",
    "Use this function definition below to define a function to calculate the *negative* log likelihood. Don't forget that you will need to change the return value to return the negative value. Try using your function to evaluate the negative log likelihood at $mu=7$."
   ]
  },
  {
   "cell_type": "code",
   "execution_count": 4,
   "metadata": {},
   "outputs": [
    {
     "data": {
      "text/plain": [
       "32.98751251589202"
      ]
     },
     "execution_count": 4,
     "metadata": {},
     "output_type": "execute_result"
    }
   ],
   "source": [
    "def f(mu):\n",
    "    l = norm.logpdf(x,loc=mu,scale=1.0)\n",
    "    return -np.sum(l)\n",
    "\n",
    "f(7)"
   ]
  },
  {
   "cell_type": "markdown",
   "metadata": {},
   "source": [
    "### Task 1.3\n",
    "\n",
    "We can use the *minimize()* function from scipy to find the value of mu which minimises our function. We provide the name of the function we would like to minimise, and a starting value, and the minimise function will search over the possible input values to the function to find function argument that gives the smallest return value.\n",
    "\n",
    "```python\n",
    "minimize(f,0.0)\n",
    "```\n",
    "\n",
    "Try this below with the function you defined in task 1.2. You should see an output giving various pieces of information. To extract just the final minimised value for $\\mu$, you can use:\n",
    "\n",
    "```python\n",
    "minimize(f,0.0).x\n",
    "```\n",
    "\n",
    "to extract just the optimum function argument that gives the smallest return value. Compare this with the maximum likelihood estimate of the mean derived in week 5 using:\n",
    "\n",
    "```python\n",
    "np.sum(x)/N\n",
    "```"
   ]
  },
  {
   "cell_type": "code",
   "execution_count": 5,
   "metadata": {},
   "outputs": [
    {
     "data": {
      "text/plain": [
       "      fun: 8.498019192940484\n",
       " hess_inv: array([[0.19999998]])\n",
       "      jac: array([-2.74181366e-06])\n",
       "  message: 'Optimization terminated successfully.'\n",
       "     nfev: 8\n",
       "      nit: 2\n",
       "     njev: 4\n",
       "   status: 0\n",
       "  success: True\n",
       "        x: array([10.1298233])"
      ]
     },
     "execution_count": 5,
     "metadata": {},
     "output_type": "execute_result"
    }
   ],
   "source": [
    "minimize(f,0)"
   ]
  },
  {
   "cell_type": "code",
   "execution_count": 6,
   "metadata": {},
   "outputs": [
    {
     "data": {
      "text/plain": [
       "10.129823849545037"
      ]
     },
     "execution_count": 6,
     "metadata": {},
     "output_type": "execute_result"
    }
   ],
   "source": [
    "np.sum(x)/5"
   ]
  },
  {
   "cell_type": "markdown",
   "metadata": {},
   "source": [
    "### Task 1.4\n",
    "\n",
    "We can plot the values of our function f(mu) for a range of values for *mu* to check that the minimisation has worked.\n",
    "\n",
    "To do this we can create a range of values using the numpy function *linspace*, and then calculate values of f() for each of these, and finally plot them.\n",
    "\n",
    "```python\n",
    "mus = np.linspace(-10,30,1000) # create an array of 1000 values from -10 to 30.\n",
    "\n",
    "ys = [] # create an empty list of y coordinates\n",
    "for mu in mus: # for each value of mu in the range\n",
    "    ys.append(f(mu)) # add f(mu) to the list of y coordinates\n",
    "    \n",
    "plt.plot(mus,ys) # plot a line for the negative log likelihood\n",
    "plt.axvline(np.sum(x)/5,color='red') # add a red vertical line at the ML estimate of mu\n",
    "```\n",
    "\n",
    "Try this below. You can also try using *ys.append(-f(mu))* to see that this corresponds to the maximum of the log likelihood."
   ]
  },
  {
   "cell_type": "code",
   "execution_count": 7,
   "metadata": {},
   "outputs": [
    {
     "data": {
      "text/plain": [
       "<matplotlib.lines.Line2D at 0x10c75fe50>"
      ]
     },
     "execution_count": 7,
     "metadata": {},
     "output_type": "execute_result"
    },
    {
     "data": {
      "image/png": "[encoded data removed]",
      "text/plain": [
       "<Figure size 432x288 with 1 Axes>"
      ]
     },
     "metadata": {
      "needs_background": "light"
     },
     "output_type": "display_data"
    }
   ],
   "source": [
    "mus = np.linspace(-10,30,1000) # create an array of 1000 values from -10 to 30.\n",
    "\n",
    "ys = [] # create an empty list of y coordinates\n",
    "for mu in mus: # for each value of mu in the range\n",
    "    ys.append(f(mu)) # add f(mu) to the list of y coordinates\n",
    "    \n",
    "plt.plot(mus,ys) # plot a line for the negative log likelihood\n",
    "plt.axvline(np.sum(x)/5,color='red') # add a red vertical line at the ML estimate of mu"
   ]
  },
  {
   "cell_type": "markdown",
   "metadata": {},
   "source": [
    "## MAP inference\n",
    "\n",
    "Next we will look at performing MAP inference by adding a prior to our likelihood, so that we are minimising the posterior density. We will consider a very wide normal distribution centered at zero as the prior."
   ]
  },
  {
   "cell_type": "markdown",
   "metadata": {},
   "source": [
    "### Task 1.5\n",
    "\n",
    "First we will plot the prior. Using a prior with parameters:\n",
    "\n",
    "```python\n",
    "prior_mean = 0.0\n",
    "prior_sd = 5.0\n",
    "```\n",
    "\n",
    "create a range of values to plot the prior at using *np.linspace()*:\n",
    "\n",
    "```python\n",
    "mus = np.linspace(-20,20,1000)\n",
    "```\n",
    "\n",
    "Now use the scipy *norm.pdf()* method to calculate the probability density at each value in *mus*:\n",
    "\n",
    "```python\n",
    "ys = norm.pdf(xs,loc=prior_mean,scale=prior_sd)\n",
    "```\n",
    "\n",
    "Finally we can plot these values using\n",
    "\n",
    "```python\n",
    "plt.plot(mus,ys)\n",
    "```"
   ]
  },
  {
   "cell_type": "code",
   "execution_count": 8,
   "metadata": {},
   "outputs": [
    {
     "data": {
      "text/plain": [
       "[<matplotlib.lines.Line2D at 0x127278fa0>]"
      ]
     },
     "execution_count": 8,
     "metadata": {},
     "output_type": "execute_result"
    },
    {
     "data": {
      "image/png": "[encoded data removed]",
      "text/plain": [
       "<Figure size 432x288 with 1 Axes>"
      ]
     },
     "metadata": {
      "needs_background": "light"
     },
     "output_type": "display_data"
    }
   ],
   "source": [
    "prior_mean = 0.0\n",
    "prior_sd = 5.0\n",
    "\n",
    "mus = np.linspace(-20,20,1000)\n",
    "\n",
    "ys = norm.pdf(mus,loc=prior_mean,scale=prior_sd)\n",
    "\n",
    "plt.plot(mus,ys)"
   ]
  },
  {
   "cell_type": "markdown",
   "metadata": {},
   "source": [
    "## Posterior\n",
    "\n",
    "We can use a modified version of our function to return the negative log likelihood for a given value of *mu* to evaluate the posterior for a value of *mu*. This will be calculating:\n",
    "\n",
    "$\\log p(\\mu|x,\\sigma) \\propto \\left(\\sum_i \\log p(x_i|\\mu,\\sigma)\\right) + \\log p(\\mu)$\n",
    "\n",
    "(since we are assuming we know $\\sigma$, there is no prior on $\\sigma$.)"
   ]
  },
  {
   "cell_type": "markdown",
   "metadata": {},
   "source": [
    "### Task 1.6\n",
    "\n",
    "Write a Python function to calculate the negative logarithm of the posterior, by adding the prior density of $\\mu$ to the log likelihood. You can use a framework like this:\n",
    "\n",
    "```python\n",
    "def nlposterior(mu):\n",
    "    loglikelihood_array = norm.logpdf(x,loc=mu,scale=1.0)\n",
    "    loglikelihood = np.sum(loglikelihood_array)\n",
    "    prior = norm.logpdf(....) #fill in here\n",
    "    return -(loglikelihood+prior)\n",
    "```\n",
    "\n",
    "Remember the prior mean and standard deviation are defined as:\n",
    "\n",
    "```python\n",
    "prior_mean = 0.0\n",
    "prior_sd = 5.0\n",
    "```"
   ]
  },
  {
   "cell_type": "code",
   "execution_count": 9,
   "metadata": {},
   "outputs": [],
   "source": [
    "def nlposterior(mu):\n",
    "    loglikelihood_array = norm.logpdf(x,loc=mu,scale=1.0)\n",
    "    loglikelihood = np.sum(loglikelihood_array)\n",
    "    prior = norm.logpdf(mu,loc=prior_mean,scale=prior_sd)\n",
    "    return -(loglikelihood+prior)"
   ]
  },
  {
   "cell_type": "markdown",
   "metadata": {},
   "source": [
    "### Task 1.7\n",
    "\n",
    "Use the scipy *minimize* function to find the value of *mu* (the argument to your nlposterior function) that minimises the negative log posterior, as we did with the negative log likelihood."
   ]
  },
  {
   "cell_type": "code",
   "execution_count": 10,
   "metadata": {},
   "outputs": [
    {
     "data": {
      "text/plain": [
       "      fun: 13.062374432681914\n",
       " hess_inv: array([[0.1984127]])\n",
       "      jac: array([3.57627869e-07])\n",
       "  message: 'Optimization terminated successfully.'\n",
       "     nfev: 10\n",
       "      nit: 4\n",
       "     njev: 5\n",
       "   status: 0\n",
       "  success: True\n",
       "        x: array([10.04942848])"
      ]
     },
     "execution_count": 10,
     "metadata": {},
     "output_type": "execute_result"
    }
   ],
   "source": [
    "minimize(nlposterior,0)"
   ]
  },
  {
   "cell_type": "markdown",
   "metadata": {},
   "source": [
    "We can plot both the negative log posterior in the same way as we did for the negative log likelihood:\n",
    "\n",
    "```python\n",
    "mus = np.linspace(9,11,1000) # create an array of 1000 values from -10 to 30.\n",
    "\n",
    "ys = [] # create an empty list of y coordinates\n",
    "for mu in mus: # for each value of mu in the range\n",
    "    ys.append(nlposterior(mu)) # add f(mu) to the list of y coordinates\n",
    "    \n",
    "plt.plot(mus,ys) # plot a line for the negative log likelihood\n",
    "\n",
    "ml_estimate = np.sum(x)/5\n",
    "map_estimate = minimize(nlposterior,0).x\n",
    "\n",
    "plt.axvline(ml_estimate,color='red') # add a red vertical line at the ML estimate of mu\n",
    "plt.axvline(map_estimate,color='green') # add a green vertical line at the MAP estimate of mu\n",
    "```\n",
    "\n",
    "Try this below."
   ]
  },
  {
   "cell_type": "code",
   "execution_count": 11,
   "metadata": {},
   "outputs": [
    {
     "data": {
      "text/plain": [
       "<matplotlib.lines.Line2D at 0x1272f26a0>"
      ]
     },
     "execution_count": 11,
     "metadata": {},
     "output_type": "execute_result"
    },
    {
     "data": {
      "image/png": "[encoded data removed]",
      "text/plain": [
       "<Figure size 432x288 with 1 Axes>"
      ]
     },
     "metadata": {
      "needs_background": "light"
     },
     "output_type": "display_data"
    }
   ],
   "source": [
    "mus = np.linspace(9,11,1000) # create an array of 1000 values from -10 to 30.\n",
    "\n",
    "ys = [] # create an empty list of y coordinates\n",
    "for mu in mus: # for each value of mu in the range\n",
    "    ys.append(nlposterior(mu)) # add f(mu) to the list of y coordinates\n",
    "    \n",
    "plt.plot(mus,ys) # plot a line for the negative log likelihood\n",
    "\n",
    "ml_estimate = np.sum(x)/5\n",
    "map_estimate = minimize(nlposterior,0).x\n",
    "\n",
    "plt.axvline(ml_estimate,color='red') # add a red vertical line at the ML estimate of mu\n",
    "plt.axvline(map_estimate,color='green') # add a green vertical line at the MAP estimate of mu"
   ]
  },
  {
   "cell_type": "markdown",
   "metadata": {},
   "source": [
    "# Scikit-learn\n",
    "\n",
    "In the next part, we are going to use scikit-learn to apply a Naive Bayes classification method to some data.\n",
    "\n",
    "You can find out more about scikit-learn here:\n",
    "\n",
    "https://scikit-learn.org/stable/\n",
    "\n",
    "First import scikit-learn and the functions we will be using:"
   ]
  },
  {
   "cell_type": "code",
   "execution_count": 1,
   "metadata": {},
   "outputs": [],
   "source": [
    "import sklearn\n",
    "from sklearn.datasets import make_blobs\n",
    "from sklearn.preprocessing import scale\n",
    "from sklearn.naive_bayes import GaussianNB"
   ]
  },
  {
   "cell_type": "markdown",
   "metadata": {},
   "source": [
    "# Naive Bayes\n",
    "\n",
    "We can perform classification on data using a method known as Naive Bayes. Scikit-learn provides us with a class that we can use to create Python objects corresponding to Naive Bayes models, and train them on data.\n",
    "\n",
    "We will use some synthetic data to perform classification using Naive Bayes."
   ]
  },
  {
   "cell_type": "markdown",
   "metadata": {},
   "source": [
    "### Task 2.1\n",
    "\n",
    "First of all load the data using the numpy *loadtxt* function:\n",
    "\n",
    "```python\n",
    "X = np.loadtxt(\"NaiveBayesX.csv\",delimiter=',')\n",
    "labels = np.loadtxt(\"NaiveBayesLabels.csv\",delimiter=',')\n",
    "```\n",
    "\n",
    "The values in X are two dimensional data points, stored with each data point as a single row. The labels are the true class labels for each data point. You might want to look at the contents of X and labels to understand the data we will be using.\n",
    "\n",
    "Then try plotting the data using:\n",
    "\n",
    "```python\n",
    "plt.scatter(X[:,0],X[:,1],c=labels)\n",
    "```\n",
    "This shows the label of each data point as its colour. There are three classes we would like to train our classifier to predict."
   ]
  },
  {
   "cell_type": "code",
   "execution_count": 4,
   "metadata": {},
   "outputs": [],
   "source": [
    "X = np.loadtxt(\"NaiveBayesX.csv\",delimiter=',')\n",
    "labels = np.loadtxt(\"NaiveBayesLabels.csv\",delimiter=',')"
   ]
  },
  {
   "cell_type": "code",
   "execution_count": 5,
   "metadata": {},
   "outputs": [
    {
     "data": {
      "text/plain": [
       "<matplotlib.collections.PathCollection at 0x1261ef610>"
      ]
     },
     "execution_count": 5,
     "metadata": {},
     "output_type": "execute_result"
    },
    {
     "data": {
      "image/png": "[encoded data removed]",
      "text/plain": [
       "<Figure size 432x288 with 1 Axes>"
      ]
     },
     "metadata": {
      "needs_background": "light"
     },
     "output_type": "display_data"
    }
   ],
   "source": [
    "plt.scatter(X[:,0],X[:,1],c=labels)"
   ]
  },
  {
   "cell_type": "markdown",
   "metadata": {},
   "source": [
    "### Task 2.2\n",
    "\n",
    "To make sure the data are ready to use with the Naive Bayes model, we must first scale the data so that it has a mean of 0, and standard deviation 1. The scikit-learn *scale()* function will do this for us.\n",
    "\n",
    "```python\n",
    "X_scaled = sklearn.preprocessing.scale(X)\n",
    "plt.scatter(X_scaled[:,0],X_scaled[:,1],c=labels)\n",
    "```\n",
    "\n",
    "Try this below."
   ]
  },
  {
   "cell_type": "code",
   "execution_count": 6,
   "metadata": {},
   "outputs": [
    {
     "data": {
      "text/plain": [
       "<matplotlib.collections.PathCollection at 0x126297ca0>"
      ]
     },
     "execution_count": 6,
     "metadata": {},
     "output_type": "execute_result"
    },
    {
     "data": {
      "image/png": "[encoded data removed]",
      "text/plain": [
       "<Figure size 432x288 with 1 Axes>"
      ]
     },
     "metadata": {
      "needs_background": "light"
     },
     "output_type": "display_data"
    }
   ],
   "source": [
    "X_scaled = sklearn.preprocessing.scale(X)\n",
    "plt.scatter(X_scaled[:,0],X_scaled[:,1],c=labels)"
   ]
  },
  {
   "cell_type": "markdown",
   "metadata": {},
   "source": [
    "## Naive Bayes models\n",
    "\n",
    "In a Naive Bayes model, we need to define the likelihood of the data given that is belongs to a particular class, $p(x_i|c_k)$. In the lectures we looked at an example of this for integer count data with a multinomial distribution. For continuous data as we have here, we can use a Gaussian (normal) distribution for the likelihood.\n",
    "\n",
    "Scikit-learn implements several Naive Bayes models, and you can read about them here:\n",
    "\n",
    "https://scikit-learn.org/stable/modules/naive_bayes.html"
   ]
  },
  {
   "cell_type": "markdown",
   "metadata": {},
   "source": [
    "### Task 2.3\n",
    "\n",
    "In scikit-learn, creating and training models is very easy. Most scikit-learn models use a similar interface, whereby first a model is created, for example:\n",
    "\n",
    "```python\n",
    "nbclassifier = GaussianNB() # create our Naive Bayes model\n",
    "```\n",
    "\n",
    "Then the model can be fit to data using the *fit()* method of the model, and appropriate data:\n",
    "\n",
    "```python\n",
    "nbclassifier.fit(X_scaled,labels)\n",
    "```\n",
    "\n",
    "This will not produce any output, but the *nbclassifier* object has now learnt and stored the model parameters inside itself. We can then go on to use this model to make predictions.\n",
    "\n",
    "Create and train a Naive Bayes model below."
   ]
  },
  {
   "cell_type": "code",
   "execution_count": 7,
   "metadata": {},
   "outputs": [
    {
     "data": {
      "text/plain": [
       "GaussianNB()"
      ]
     },
     "execution_count": 7,
     "metadata": {},
     "output_type": "execute_result"
    }
   ],
   "source": [
    "nbclassifier = GaussianNB()\n",
    "nbclassifier.fit(X_scaled,labels)"
   ]
  },
  {
   "cell_type": "markdown",
   "metadata": {},
   "source": [
    "## Predictions"
   ]
  },
  {
   "cell_type": "markdown",
   "metadata": {},
   "source": [
    "### Task 2.4\n",
    "\n",
    "Many scikit-learn models have a *predict* method, that will predict the output for a given input. This means we can supply new values for X, and the classifier will predict the class for them. By default for the Naive Bayes model, the MAP estimate of the class label is returned.\n",
    "\n",
    "We can create an array of new data points for which we would like to predict the label, and use the *predict()* method of our model to predict labels:\n",
    "\n",
    "```python\n",
    "X_new = np.array([[1.0,-1.0],\n",
    "                  [0.0,0.5],\n",
    "                  [-1.5,0.75]]) # An array of three new data points.\n",
    "\n",
    "plt.scatter(X_scaled[:,0],X_scaled[:,1],c=labels) # Plot their locations\n",
    "plt.scatter(X_new[:,0],X_new[:,1],color='red') # Using red cross symbols for the new points\n",
    "\n",
    "nbclassifier.predict(X_new) # return the MAP estimate of the class label for each new data point\n",
    "```"
   ]
  },
  {
   "cell_type": "code",
   "execution_count": 8,
   "metadata": {},
   "outputs": [
    {
     "data": {
      "text/plain": [
       "array([0., 1., 2.])"
      ]
     },
     "execution_count": 8,
     "metadata": {},
     "output_type": "execute_result"
    },
    {
     "data": {
      "image/png": "[encoded data removed]",
      "text/plain": [
       "<Figure size 432x288 with 1 Axes>"
      ]
     },
     "metadata": {
      "needs_background": "light"
     },
     "output_type": "display_data"
    }
   ],
   "source": [
    "X_new = np.array([[1.0,-1.0],\n",
    "                  [0.0,0.5],\n",
    "                  [-1.5,0.75]])\n",
    "    \n",
    "    #[[0.45,-0.34],\n",
    "     #             [0.5,-0.5],\n",
    "      #            [-1.5,0.75]])\n",
    "\n",
    "plt.scatter(X_scaled[:,0],X_scaled[:,1],c=labels) # Plot their locations\n",
    "plt.scatter(X_new[:,0],X_new[:,1],color='red',marker='x')\n",
    "\n",
    "nbclassifier.predict(X_new)"
   ]
  },
  {
   "cell_type": "markdown",
   "metadata": {},
   "source": [
    "### Task 2.5\n",
    "\n",
    "As well as returning the MAP estimate, the Naive Bayes classifier also has a *predict_proba()* method that will return the posterior probability of each class. For our array of new X values we can use:\n",
    "\n",
    "```python\n",
    "nbclassifier.predict_proba(X_new)\n",
    "```\n",
    "\n",
    "This will return an array with one row for each data point, and the posterior probability of each of the three classes as columns."
   ]
  },
  {
   "cell_type": "code",
   "execution_count": 20,
   "metadata": {},
   "outputs": [
    {
     "data": {
      "text/plain": [
       "array([[2.86387366e-02, 9.71160069e-01, 2.01194350e-04],\n",
       "       [8.99079468e-01, 1.00895952e-01, 2.45798190e-05],\n",
       "       [3.01575340e-30, 5.95659134e-05, 9.99940434e-01]])"
      ]
     },
     "execution_count": 20,
     "metadata": {},
     "output_type": "execute_result"
    }
   ],
   "source": [
    "nbclassifier.predict_proba(X_new)"
   ]
  },
  {
   "cell_type": "markdown",
   "metadata": {},
   "source": [
    "### Task 2.6\n",
    "\n",
    "Now we can try plotting these for each of the new data points, for the data point in the first row of X_new:\n",
    "\n",
    "```python\n",
    "prob = nbclassifier.predict_proba(X_new)\n",
    "plt.bar([0,1,2],prob[0,:]) # Plot posterior for class label of data point in row 0 of X_new\n",
    "```\n",
    "\n",
    "for the second row:\n",
    "\n",
    "```python\n",
    "plt.bar([0,1,2],prob[1,:]) # Plot posterior for class label of data point in row 1 of X_new\n",
    "```\n",
    "\n",
    "and so on.\n",
    "\n",
    "Try this below."
   ]
  },
  {
   "cell_type": "code",
   "execution_count": 9,
   "metadata": {},
   "outputs": [
    {
     "data": {
      "text/plain": [
       "<BarContainer object of 3 artists>"
      ]
     },
     "execution_count": 9,
     "metadata": {},
     "output_type": "execute_result"
    },
    {
     "data": {
      "image/png": "[encoded data removed]",
      "text/plain": [
       "<Figure size 432x288 with 1 Axes>"
      ]
     },
     "metadata": {
      "needs_background": "light"
     },
     "output_type": "display_data"
    }
   ],
   "source": [
    "prob = nbclassifier.predict_proba(X_new)\n",
    "plt.bar([0,1,2],prob[1,:])"
   ]
  },
  {
   "cell_type": "code",
   "execution_count": null,
   "metadata": {},
   "outputs": [],
   "source": []
  }
 ],
 "metadata": {
  "kernelspec": {
   "display_name": "Python 3 (ipykernel)",
   "language": "python",
   "name": "python3"
  },
  "language_info": {
   "codemirror_mode": {
    "name": "ipython",
    "version": 3
   },
   "file_extension": ".py",
   "mimetype": "text/x-python",
   "name": "python",
   "nbconvert_exporter": "python",
   "pygments_lexer": "ipython3",
   "version": "3.11.6"
  }
 },
 "nbformat": 4,
 "nbformat_minor": 4
}
