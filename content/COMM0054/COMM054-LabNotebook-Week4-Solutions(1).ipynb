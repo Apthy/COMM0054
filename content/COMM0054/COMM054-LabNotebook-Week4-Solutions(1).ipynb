{
 "cells": [
  {
   "cell_type": "markdown",
   "metadata": {},
   "source": [
    "# Data Science Principles and Practices (COMM054) Lab Week 4\n",
    "\n",
    "Follow this handout and attemp the tasks. This set of exercises focusses on writing basic Python code to perform calculations for probability theory and statistics with the SciPy library. Do not worry if you do not complete them all in the timetabled lab session.\n",
    "\n",
    "This is not assessed but will help you gain practical experience for the module exam and coursework.\n",
    "\n",
    "You will need to download some of the csv data set files from the module SurreyLearn page and place them in the same folder as this notebook."
   ]
  },
  {
   "cell_type": "markdown",
   "metadata": {},
   "source": [
    "## SciPy\n",
    "\n",
    "SciPy stands for **Scientific Python**. It is a scientific computation library that uses NumPy underneath. However, SciPy has optimised and added functions that are frequently used in NumPy and Data Science. In particular, it provides more utility functions for optimisation, stats and signal processing.\n",
    "\n",
    "\n",
    "SciPy is a collection of packages addressing a number of different standard problem domains in scientific computing. For instance, \n",
    "\n",
    "* scipy.integrate: numerical integration routines and differential equation solvers\n",
    "* scipy.linalg: linear algebra routines and matrix decompositions extending beyond those provided in numpy.linalg.\n",
    "* scipy.optimize: function optimizers (minimizers) and root finding algorithms\n",
    "* scipy.signal: signal processing tools\n",
    "* scipy.sparse: sparse matrices and sparse linear system solvers\n",
    "* scipy.special: wrapper around SPECFUN, a Fortran library implementing many common mathematical functions, such as the gamma function\n",
    "* scipy.stats: standard continuous and discrete probability distributions (density functions, samplers, continuous distribution functions), various statistical tests, and more descriptive statistics\n",
    "* scipy.weave: tool for using inline C++ code to accelerate array computations\n",
    "\n",
    "Documentation of SciPy can be found here: https://docs.scipy.org/doc/scipy/reference/\n",
    "\n",
    "We will mostly use `scipy.stats` for this week. https://docs.scipy.org/doc/scipy/reference/tutorial/stats.html"
   ]
  },
  {
   "cell_type": "markdown",
   "metadata": {},
   "source": [
    "Once SciPy is installed, import the SciPy module(s) you want to use in your applications by adding the `from scipy import module` statement. For instance,\n",
    "\n",
    "`from scipy import constants`\n",
    "\n",
    "Now we have imported the constants module from SciPy, and the application is ready to use it:\n",
    "\n",
    "Example: How many cubic meters are in one liter:\n",
    "\n",
    "`from scipy import constants`\n",
    "\n",
    "`print(constants.liter)`\n",
    "\n",
    "Test it yourself below."
   ]
  },
  {
   "cell_type": "code",
   "execution_count": 1,
   "metadata": {},
   "outputs": [
    {
     "name": "stdout",
     "output_type": "stream",
     "text": [
      "0.001\n"
     ]
    }
   ],
   "source": [
    "from scipy import constants\n",
    "print(constants.liter)"
   ]
  },
  {
   "cell_type": "markdown",
   "metadata": {},
   "source": [
    "## Descriptive Statistics\n",
    "\n",
    "In the code samples below, we assume that the `scipy.stats` package is imported as `ss`\n",
    "\n",
    "```python\n",
    "import scipy.stats as ss\n",
    "```\n",
    "\n",
    "You can also import individual *objects* from `scipy.stats` if you would prefer to drop the `ss` prefix\n",
    "\n",
    "```python\n",
    "from scipy.stats import norm \n",
    "```\n",
    "\n",
    "The `norm` module is related the normal distribution.\n",
    "\n",
    "Import `stats.stats` as `ss` below. "
   ]
  },
  {
   "cell_type": "code",
   "execution_count": 2,
   "metadata": {},
   "outputs": [],
   "source": [
    "import scipy.stats as ss"
   ]
  },
  {
   "cell_type": "markdown",
   "metadata": {},
   "source": [
    "### Mean, Median, Mode\n",
    "\n",
    "\n",
    "Let's look at the following three measures\n",
    "\n",
    "* Mean - The average value\n",
    "* Median - The mid point value\n",
    "* Mode - The most common value\n",
    "\n",
    "Example: We have registered the speed of 13 cars:\n",
    "\n",
    "`speed = [99,86,87,88,111,86,103,87,94,78,77,85,86]`"
   ]
  },
  {
   "cell_type": "markdown",
   "metadata": {},
   "source": [
    "You can use the NumPy `mean()` method to find the average speed.\n",
    "\n",
    "`np.mean(speed)`\n",
    "\n",
    "Try it below. (Do not forget to import NumPy!)"
   ]
  },
  {
   "cell_type": "code",
   "execution_count": 3,
   "metadata": {},
   "outputs": [
    {
     "data": {
      "text/plain": [
       "89.76923076923077"
      ]
     },
     "execution_count": 3,
     "metadata": {},
     "output_type": "execute_result"
    }
   ],
   "source": [
    "import numpy as np\n",
    "\n",
    "speed = [99,86,87,88,111,86,103,87,94,78,77,85,86]\n",
    "np.mean(speed)"
   ]
  },
  {
   "cell_type": "markdown",
   "metadata": {},
   "source": [
    "Use the NumPy `median()` method to find the median of speed.\n",
    "\n",
    "Try it below."
   ]
  },
  {
   "cell_type": "code",
   "execution_count": 4,
   "metadata": {},
   "outputs": [
    {
     "data": {
      "text/plain": [
       "87.0"
      ]
     },
     "execution_count": 4,
     "metadata": {},
     "output_type": "execute_result"
    }
   ],
   "source": [
    "np.median(speed)"
   ]
  },
  {
   "cell_type": "markdown",
   "metadata": {},
   "source": [
    "The SciPy's stats module has a method `mode()` to compute the mode (it actually returns the `mode` and the `count`, i.e. the number of times the mode appears in the dataset). \n",
    "\n",
    "Try to compute the **mode** of the speed."
   ]
  },
  {
   "cell_type": "code",
   "execution_count": 5,
   "metadata": {},
   "outputs": [
    {
     "data": {
      "text/plain": [
       "ModeResult(mode=array([86]), count=array([3]))"
      ]
     },
     "execution_count": 5,
     "metadata": {},
     "output_type": "execute_result"
    }
   ],
   "source": [
    "ss.mode(speed)"
   ]
  },
  {
   "cell_type": "markdown",
   "metadata": {},
   "source": [
    "### Variance and Standard Deviation\n",
    "\n",
    "The NumPy module has a method `var()` to calculate the variance, and a method `std()` to calculate the standard deviation.  \n",
    "\n",
    "Try to compute the variance and standard deviation for the list *speed* given above (use print to display your answers)."
   ]
  },
  {
   "cell_type": "code",
   "execution_count": 6,
   "metadata": {
    "scrolled": true
   },
   "outputs": [
    {
     "name": "stdout",
     "output_type": "stream",
     "text": [
      "The variance is  85.71597633136093\n",
      "The standard deviation is  9.258292301032677\n"
     ]
    }
   ],
   "source": [
    "x = np.var(speed)\n",
    "y = np.std(speed)\n",
    "\n",
    "print(\"The variance is \", x)\n",
    "print(\"The standard deviation is \", y)"
   ]
  },
  {
   "cell_type": "markdown",
   "metadata": {},
   "source": [
    "As mentioned in the lecture, there are two different definitions of sample variance: *biased* and *unbiased*. \n",
    "\n",
    "`np.var()` method actually returns the **biased** sample variance. \n",
    "\n",
    "To compute the unbiased sample variance, you can set `ddof` which is an optional argument of `var` and `std`.\n",
    "ddof stands for “Delta Degrees of Freedom”: the divisor used in the calculation is N - ddof, where N represents the number of elements. By default ddof is zero.\n",
    "\n",
    "```python\n",
    "x = np.var(speed, ddof=1)\n",
    "y = np.std(speed, ddof=1)\n",
    "```\n",
    "\n",
    "Try them below and compare with the results you had before. "
   ]
  },
  {
   "cell_type": "code",
   "execution_count": 7,
   "metadata": {},
   "outputs": [
    {
     "name": "stdout",
     "output_type": "stream",
     "text": [
      "The unbiased variance is  92.85897435897435\n",
      "The unbiased standard deviation is 9.636336148089395\n"
     ]
    }
   ],
   "source": [
    "x = np.var(speed, ddof=1)\n",
    "y = np.std(speed, ddof=1)\n",
    "\n",
    "print(\"The unbiased variance is \", x)\n",
    "print(\"The unbiased standard deviation is\", y)"
   ]
  },
  {
   "cell_type": "markdown",
   "metadata": {},
   "source": [
    "### Python statistics Module\n",
    "\n",
    "Python has a **built-in** module **statistics** that you can use to calculate some descriptive statistics of numeric data.\n",
    "The statistics module was new in Python 3.4.\n",
    "\n",
    "* `statistics.mean()`\tCalculates the mean (average) of the given data\n",
    "* `statistics.median()`\tCalculates the median (middle value) of the given data\n",
    "* `statistics.median_grouped()`\tCalculates the median of grouped continuous data* \n",
    "* `statistics.median_high()` Calculates the high median of the given data\n",
    "* `statistics.median_low()`\tCalculates the low median of the given data\n",
    "* `statistics.mode()`\tCalculates the mode (central tendency) of the given numeric or nominal data\n",
    "* `statistics.pstdev()`\tCalculates the standard deviation from an entire population\n",
    "* `statistics.stdev()`\tCalculates the standard deviation from a sample of data\n",
    "* `statistics.pvariance()`\tCalculates the variance of an entire population\n",
    "* `statistics.variance()`\tCalculates the variance from a sample of data\n",
    "\n",
    "For instance, to compute the unbiased variance, you could use `statistics.variance()` which gets closer to the population variance than `statistics.pvariance()`"
   ]
  },
  {
   "cell_type": "markdown",
   "metadata": {},
   "source": [
    "### Task 1.1\n",
    "\n",
    "Use these functions to compute the mean, median, (biased and unbiased) variance and standard deviation for speed. Compare the result with the one using NumPy. Don't forget to `import statistics` first."
   ]
  },
  {
   "cell_type": "code",
   "execution_count": 8,
   "metadata": {},
   "outputs": [
    {
     "name": "stdout",
     "output_type": "stream",
     "text": [
      "92.85897435897435\n",
      "92.85897435897436\n",
      "85.71597633136093\n",
      "85.71597633136095\n"
     ]
    }
   ],
   "source": [
    "import statistics\n",
    "\n",
    "print(np.var(speed,ddof=1))\n",
    "print(statistics.variance(speed))\n",
    "\n",
    "print(np.var(speed,ddof=0))\n",
    "print(statistics.pvariance(speed))"
   ]
  },
  {
   "cell_type": "markdown",
   "metadata": {},
   "source": [
    "### Task 1.2\n",
    "\n",
    "Recall the diamonds dataset which you have used in the first lab. For the price of the diamonds whose carat is greater than 2. Find\n",
    "\n",
    "* mean\n",
    "* median\n",
    "* unbiased variance\n",
    "* biased variance\n",
    "* unbiased standard deviation\n",
    "* biased standard deviation"
   ]
  },
  {
   "cell_type": "code",
   "execution_count": 9,
   "metadata": {},
   "outputs": [
    {
     "name": "stdout",
     "output_type": "stream",
     "text": [
      "The mean price is  14951.250397035468\n",
      "The median price is  15392.0\n",
      "The unbiased variance of price is  7309423.37317914\n",
      "The variance of price is  7305553.906067875\n",
      "The unbiased standard deviation of price is  2703.594528249223\n",
      "The standard deviation of price is  2702.878818235822\n"
     ]
    }
   ],
   "source": [
    "import pandas as pd\n",
    "\n",
    "diamonds = pd.read_csv(\"diamonds.csv\")\n",
    "\n",
    "x = diamonds.loc[diamonds.carat>2, 'price']\n",
    "\n",
    "print(\"The mean price is \", np.mean(x))\n",
    "print(\"The median price is \", np.median(x))\n",
    "print(\"The unbiased variance of price is \", np.var(x, ddof=1))\n",
    "print(\"The variance of price is \", np.var(x, ddof=0))\n",
    "\n",
    "print(\"The unbiased standard deviation of price is \", np.std(x, ddof=1))\n",
    "print(\"The standard deviation of price is \", np.std(x, ddof=0))"
   ]
  },
  {
   "cell_type": "markdown",
   "metadata": {},
   "source": [
    "### Percentiles\n",
    "Percentiles are used in statistics to give you a number that describes the value that a given percent of the values are lower than.\n",
    "\n",
    "**Example**: Let's say we have an array of the ages of all the people that lives in a street.\n",
    "\n",
    "```python\n",
    "ages = [5,31,43,48,50,41,7,11,15,39,80,82,32,2,8,6,25,36,27,61,31]\n",
    "x = np.percentile(ages, 75)\n",
    "print(x)\n",
    "```\n",
    "\n",
    "Try this yourself."
   ]
  },
  {
   "cell_type": "code",
   "execution_count": 10,
   "metadata": {},
   "outputs": [
    {
     "name": "stdout",
     "output_type": "stream",
     "text": [
      "43.0\n"
     ]
    }
   ],
   "source": [
    "ages = [5,31,43,48,50,41,7,11,15,39,80,82,32,2,8,6,25,36,27,61,31]\n",
    "x = np.percentile(ages, 75)\n",
    "print(x)"
   ]
  },
  {
   "cell_type": "markdown",
   "metadata": {},
   "source": [
    "What is the age that 90% of the people are younger than?"
   ]
  },
  {
   "cell_type": "code",
   "execution_count": 11,
   "metadata": {},
   "outputs": [
    {
     "name": "stdout",
     "output_type": "stream",
     "text": [
      "61.0\n"
     ]
    }
   ],
   "source": [
    "ages = [5,31,43,48,50,41,7,11,15,39,80,82,32,2,8,6,25,36,27,61,31]\n",
    "x = np.percentile(ages, 90)\n",
    "print(x)"
   ]
  },
  {
   "cell_type": "markdown",
   "metadata": {},
   "source": [
    "### Task 1.3\n",
    "\n",
    "Use percentiles to find the\n",
    "\n",
    "* median, \n",
    "* lower quartile\n",
    "* upper quartile\n",
    "* interquartile range\n",
    "\n",
    "of the list `ages = [5,31,43,48,50,41,7,11,15,39,80,82,32,2,8,6,25,36,27,61,31]`"
   ]
  },
  {
   "cell_type": "code",
   "execution_count": 12,
   "metadata": {},
   "outputs": [
    {
     "name": "stdout",
     "output_type": "stream",
     "text": [
      "the median age is 31.0\n",
      "the median age is 31.0\n",
      "the lower quartile of age is 11.0\n",
      "the upper quartile of age is 43.0\n",
      "the interquartile range of age is 32.0\n"
     ]
    }
   ],
   "source": [
    "ages = [5,31,43,48,50,41,7,11,15,39,80,82,32,2,8,6,25,36,27,61,31]\n",
    "\n",
    "print(\"the median age is\", np.median(ages))\n",
    "print(\"the median age is\", np.percentile(ages, 50))    # different way to compute the median\n",
    "print(\"the lower quartile of age is\", np.percentile(ages, 25))\n",
    "print(\"the upper quartile of age is\", np.percentile(ages, 75))\n",
    "print(\"the interquartile range of age is\", np.percentile(ages, 75)-np.percentile(ages, 25))"
   ]
  },
  {
   "cell_type": "markdown",
   "metadata": {},
   "source": [
    "### Covariance and Correlation\n",
    "\n",
    "To compute the covariance of two samples, you could use NumPy's `cov()`. \n",
    "\n",
    "For instance,\n",
    "\n",
    "```\n",
    "x = np.arange(10, 20)\n",
    "y = np.array([2, 1, 4, 5, 8, 12, 18, 25, 96, 48])\n",
    "print(np.cov(x,y))\n",
    "```\n",
    "\n",
    "Note that `np.cov(x,y)` returns a 2-by-2 matrix. The (0,0)-entry is the variance of x, \n",
    "the (1,1)-entry is the variance of y, the (0,1) or (1,0) entry is what you want, i.e., the covariance.\n",
    "\n",
    "There is an optional argument: **bias**\n",
    "\n",
    "`bias=True` gives a biased estimate, and `bias=False` gives an unbiased estimate. \n",
    "\n",
    "As with `np.var()`, you can also use `ddof=1` to achieve the same effect.\n",
    "\n",
    "For more information, check\n",
    "https://numpy.org/doc/stable/reference/generated/numpy.cov.html\n",
    "\n",
    "Try both options below. "
   ]
  },
  {
   "cell_type": "code",
   "execution_count": 13,
   "metadata": {},
   "outputs": [
    {
     "name": "stdout",
     "output_type": "stream",
     "text": [
      "[[  8.25  61.35]\n",
      " [ 61.35 792.69]]\n",
      "[[  9.16666667  68.16666667]\n",
      " [ 68.16666667 880.76666667]]\n",
      "[[  9.16666667  68.16666667]\n",
      " [ 68.16666667 880.76666667]]\n",
      "8.25\n",
      "9.166666666666666\n"
     ]
    }
   ],
   "source": [
    "x = np.arange(10, 20)\n",
    "y = np.array([2, 1, 4, 5, 8, 12, 18, 25, 96, 48])\n",
    "\n",
    "print(np.cov(x, y, bias=True))\n",
    "print(np.cov(x, y, bias=False))\n",
    "print(np.cov(x,y, ddof=1))\n",
    "\n",
    "print(np.var(x))\n",
    "print(np.var(x, ddof=1))"
   ]
  },
  {
   "cell_type": "markdown",
   "metadata": {},
   "source": [
    "For the **correlation** of two samples, you could use NumPy's `corrcoef` (which will give a 2x2 array - the correlation coefficient will be the (0,1) or (1,0) entry).\n",
    "\n",
    "You can also use `ss.pearsonr(x, y)` which returns a pair, and the first element is what you want."
   ]
  },
  {
   "cell_type": "code",
   "execution_count": 14,
   "metadata": {
    "scrolled": true
   },
   "outputs": [
    {
     "name": "stdout",
     "output_type": "stream",
     "text": [
      "[[1.         0.75864029]\n",
      " [0.75864029 1.        ]]\n"
     ]
    },
    {
     "data": {
      "text/plain": [
       "0.7586402890911869"
      ]
     },
     "execution_count": 14,
     "metadata": {},
     "output_type": "execute_result"
    }
   ],
   "source": [
    "x = np.arange(10, 20)\n",
    "y = np.array([2, 1, 4, 5, 8, 12, 18, 25, 96, 48])\n",
    "r = np.corrcoef(x,y)\n",
    "print(r)\n",
    "\n",
    "ss.pearsonr(x, y)[0]"
   ]
  },
  {
   "cell_type": "markdown",
   "metadata": {},
   "source": [
    "### Task 1.4\n",
    "\n",
    "From the large data set, the *daily mean windspeed (w knots)* and the *daily maximum gust (g knots)*\n",
    "were recorded for the first 8 days in September in Hurn in 1987.\n",
    "\n",
    "windspeed: 4, 4, 8, 7, 12, 12, 3, 10\n",
    "\n",
    "gust: 13, 12, 19, 23, 33, 37, 10, 23\n",
    "\n",
    "Calculate the correlation coefficient for the 8 days."
   ]
  },
  {
   "cell_type": "code",
   "execution_count": 15,
   "metadata": {},
   "outputs": [
    {
     "name": "stdout",
     "output_type": "stream",
     "text": [
      "[[1.         0.95329737]\n",
      " [0.95329737 1.        ]]\n"
     ]
    }
   ],
   "source": [
    "windspeed = [4, 4, 8, 7, 12, 12, 3, 10]\n",
    "gust = [13, 12, 19, 23, 33, 37, 10, 23]\n",
    "\n",
    "print(np.corrcoef(windspeed,gust))"
   ]
  },
  {
   "cell_type": "markdown",
   "metadata": {},
   "source": [
    "### Task 1.5\n",
    "\n",
    "Again work on the diamonds dataset. Find the covariance and correlation of the carat and the price of those diamonds in the dataset whose carat is greater than 3. "
   ]
  },
  {
   "cell_type": "code",
   "execution_count": 16,
   "metadata": {},
   "outputs": [
    {
     "name": "stdout",
     "output_type": "stream",
     "text": [
      "342.1245161290322\n",
      "0.19897757852347675\n"
     ]
    }
   ],
   "source": [
    "diamonds_big_carat = diamonds.loc[diamonds.carat>3, \"carat\"]\n",
    "diamonds_big_price = diamonds.loc[diamonds.carat>3, \"price\"]\n",
    "\n",
    "print(np.cov(diamonds_big_carat,diamonds_big_price)[0,1])\n",
    "print(np.corrcoef(diamonds_big_carat,diamonds_big_price)[0,1])"
   ]
  },
  {
   "cell_type": "markdown",
   "metadata": {},
   "source": [
    "## Note\n",
    "\n",
    "Scipy.stats module (https://docs.scipy.org/doc/scipy/reference/stats.html) contains a large number of probability distributions as well as a growing library of statistical functions.\n",
    "\n",
    "Look under \"Summary statistics\" and \"Frequency statistics\" for many more functions for descriptive statistics. "
   ]
  },
  {
   "cell_type": "markdown",
   "metadata": {},
   "source": [
    "# Random variables\n",
    "\n",
    "There are two general distribution classes that have been implemented for encapsulating continuous random variables and discrete random variables. Over 80 continuous random variables (RVs) and 10 discrete random variables have been implemented using these classes.  \n",
    "\n",
    "All of the statistics functions are located in the sub-package scipy.stats and a fairly complete listing of these functions can be obtained using info(stats) in linux. The list of the random variables available can also be obtained from the docstring for the stats sub-package.\n"
   ]
  },
  {
   "cell_type": "markdown",
   "metadata": {},
   "source": [
    "## Common methods for random variables\n",
    "\n",
    "https://docs.scipy.org/doc/scipy/reference/stats.html\n",
    "\n",
    "Some of the main public methods for continuous RVs are:\n",
    "\n",
    "* rvs: Random Variates\n",
    "\n",
    "* pdf: Probability Density Function\n",
    "\n",
    "* cdf: Cumulative Distribution Function\n",
    "\n",
    "* ppf: Percent Point Function (Inverse of CDF)\n",
    "\n",
    "* stats: Return mean, variance, etc.\n",
    "\n",
    "* moment: non-central moments of the distribution\n",
    "\n",
    "If you haven't already done so, import `scipy.stats`\n",
    "```python \n",
    "import scipy.stats as ss\n",
    "```"
   ]
  },
  {
   "cell_type": "code",
   "execution_count": 17,
   "metadata": {},
   "outputs": [],
   "source": [
    "import scipy.stats as ss"
   ]
  },
  {
   "cell_type": "markdown",
   "metadata": {},
   "source": [
    "#### Example: normal distribution\n",
    "\n",
    "Let’s take a **standard** normal random variable X (i.e., the distribution is N(0,1)) as an example.\n",
    "\n",
    "You can use `ss.norm.cdf(0)` to compute the probability $P(X\\leq 0)$."
   ]
  },
  {
   "cell_type": "code",
   "execution_count": 18,
   "metadata": {},
   "outputs": [
    {
     "data": {
      "text/plain": [
       "0.5"
      ]
     },
     "execution_count": 18,
     "metadata": {},
     "output_type": "execute_result"
    }
   ],
   "source": [
    "ss.norm.cdf(0)"
   ]
  },
  {
   "cell_type": "markdown",
   "metadata": {},
   "source": [
    "To compute the cdf at a number of points, we can pass a list or a numpy array.\n",
    "\n",
    "For instance, `ss.norm.cdf(np.array([-1, 0, 1]))`"
   ]
  },
  {
   "cell_type": "code",
   "execution_count": 19,
   "metadata": {},
   "outputs": [
    {
     "data": {
      "text/plain": [
       "array([0.15865525, 0.5       , 0.84134475])"
      ]
     },
     "execution_count": 19,
     "metadata": {},
     "output_type": "execute_result"
    }
   ],
   "source": [
    "ss.norm.cdf([-1, 0, 1])"
   ]
  },
  {
   "cell_type": "markdown",
   "metadata": {},
   "source": [
    "You can also use `ss.norm.mean()`, `ss.norm.std()`, `ss.norm.var()` to compute the (theoretical) expectation, standard deviation, and variance, respectively. "
   ]
  },
  {
   "cell_type": "code",
   "execution_count": 20,
   "metadata": {},
   "outputs": [
    {
     "data": {
      "text/plain": [
       "(0.0, 1.0, 1.0)"
      ]
     },
     "execution_count": 20,
     "metadata": {},
     "output_type": "execute_result"
    }
   ],
   "source": [
    "ss.norm.mean(), ss.norm.std(), ss.norm.var()"
   ]
  },
  {
   "cell_type": "markdown",
   "metadata": {},
   "source": [
    "To find the median of a distribution, we can use the percent point function `ppf()`, which is the inverse of the cdf. For instance, `ss.norm.ppf(0.95)` returns the value $\\alpha$ such that $P(X\\leq \\alpha)=0.95$. \n",
    "\n",
    "Try this for other arguments such as 0.9, 0.99, etc."
   ]
  },
  {
   "cell_type": "code",
   "execution_count": 21,
   "metadata": {},
   "outputs": [
    {
     "name": "stdout",
     "output_type": "stream",
     "text": [
      "1.6448536269514722\n",
      "1.2815515655446004\n",
      "2.3263478740408408\n"
     ]
    }
   ],
   "source": [
    "print(ss.norm.ppf(0.95))\n",
    "print(ss.norm.ppf(0.9))\n",
    "print(ss.norm.ppf(0.99))"
   ]
  },
  {
   "cell_type": "markdown",
   "metadata": {},
   "source": [
    "To draw a sample/random variate from the normal distribution, use `ss.norm.rvs()`"
   ]
  },
  {
   "cell_type": "code",
   "execution_count": 22,
   "metadata": {},
   "outputs": [
    {
     "data": {
      "text/plain": [
       "-1.4782452549720992"
      ]
     },
     "execution_count": 22,
     "metadata": {},
     "output_type": "execute_result"
    }
   ],
   "source": [
    "ss.norm.rvs()"
   ]
  },
  {
   "cell_type": "markdown",
   "metadata": {},
   "source": [
    "To generate a sequence of random variates, use the size keyword argument (e.g. `size=5`):"
   ]
  },
  {
   "cell_type": "code",
   "execution_count": 23,
   "metadata": {},
   "outputs": [
    {
     "data": {
      "text/plain": [
       "array([ 0.70299771,  0.09291487, -0.6800269 , -2.18699515, -0.12247477])"
      ]
     },
     "execution_count": 23,
     "metadata": {},
     "output_type": "execute_result"
    }
   ],
   "source": [
    "ss.norm.rvs(size=5)"
   ]
  },
  {
   "cell_type": "markdown",
   "metadata": {},
   "source": [
    "All continuous distributions take `loc` and `scale` as keyword parameters to adjust the location and scale of the distribution, e.g., for the standard normal distribution, `loc` is the mean and  `scale` is the standard deviation.\n",
    "\n",
    "You can, for instance, use this to define a general normal distribution \n",
    "\n",
    "`ss.norm(loc=3, scale=4)`\n",
    "Compute the mean and standard deviation of this normal distribution."
   ]
  },
  {
   "cell_type": "code",
   "execution_count": 24,
   "metadata": {},
   "outputs": [
    {
     "name": "stdout",
     "output_type": "stream",
     "text": [
      "3.0\n",
      "4.0\n"
     ]
    }
   ],
   "source": [
    "A = ss.norm(loc=3, scale=4)\n",
    "print(A.mean())\n",
    "print(A.std())"
   ]
  },
  {
   "cell_type": "markdown",
   "metadata": {},
   "source": [
    "**Note:** `ss.norm.rvs()` works similarly to `np.normal.random()` introduced last week. Enter the code below in the code box.\n",
    "\n",
    "```python\n",
    "import matplotlib.pyplot as plt\n",
    "\n",
    "fig,ax = plt.subplots(nrows=1, ncols=2)\n",
    "\n",
    "x = np.random.normal(5, 1, 100000) # mu=5, sigma=1, 100000 data points\n",
    "ax[0].hist(x, 100)     # histrogram with 100 bins\n",
    "ax[0].set_title(\"Generated using np.random.normal()\")\n",
    "\n",
    "y = ss.norm.rvs(5, 1, 100000) # mu=5, sigma=1, 100000 data points\n",
    "ax[1].hist(x, 100)     # histrogram with 100 bins\n",
    "ax[1].set_title(\"Generated using ss.norm.rvs()\")\n",
    "\n",
    "fig.tight_layout()\n",
    "plt.show()\n",
    "```"
   ]
  },
  {
   "cell_type": "code",
   "execution_count": 25,
   "metadata": {},
   "outputs": [
    {
     "data": {
      "image/png": "[encoded data removed]",
      "text/plain": [
       "<Figure size 432x288 with 2 Axes>"
      ]
     },
     "metadata": {
      "needs_background": "light"
     },
     "output_type": "display_data"
    }
   ],
   "source": [
    "import matplotlib.pyplot as plt\n",
    "\n",
    "fig,ax = plt.subplots(nrows=1, ncols=2)\n",
    "\n",
    "x = np.random.normal(5, 1, 100000) # mu=5, sigma=1, 100000 data points\n",
    "ax[0].hist(x, 100)     # histrogram with 100 bins\n",
    "ax[0].set_title(\"Generated using np.random.normal()\")\n",
    "\n",
    "y = ss.norm.rvs(5, 1, 100000) # mu=5, sigma=1, 100000 data points\n",
    "ax[1].hist(x, 100)     # histrogram with 100 bins\n",
    "ax[1].set_title(\"Generated using ss.norm.rvs()\")\n",
    "\n",
    "fig.tight_layout()\n",
    "plt.show()"
   ]
  },
  {
   "cell_type": "markdown",
   "metadata": {},
   "source": [
    "However `scipy.stats` is more versatile, since for example it allows us to calculate the *theoretical* mean of a distribution (via `ss.norm.mean()`), rather than just the sample mean, as illustrated in the following code.\n",
    "\n",
    "```python\n",
    "X = ss.norm(5, 1)\n",
    "print(\"The theoretical mean is \", X.mean())\n",
    "x = X.rvs(10000)\n",
    "print(\"The sample mean is \", np.mean(x))\n",
    "```"
   ]
  },
  {
   "cell_type": "code",
   "execution_count": 26,
   "metadata": {},
   "outputs": [
    {
     "name": "stdout",
     "output_type": "stream",
     "text": [
      "The theoretical mean is  5.0\n",
      "The sample mean is  4.856585173937072\n"
     ]
    }
   ],
   "source": [
    "X = ss.norm(5, 1)\n",
    "print(\"The theoretical mean is \", X.mean())\n",
    "x = X.rvs(100)\n",
    "print(\"The sample mean is \", np.mean(x))"
   ]
  },
  {
   "cell_type": "markdown",
   "metadata": {},
   "source": [
    "### Task 2.1\n",
    "\n",
    "For a standard normal random variable $Z$, compute \n",
    "\n",
    "* $P(Z<1.23)$ \n",
    "* $P(Z\\geq 1.23)$\n",
    "* $P(0.4\\leq Z < 1.7)$"
   ]
  },
  {
   "cell_type": "code",
   "execution_count": 27,
   "metadata": {},
   "outputs": [
    {
     "name": "stdout",
     "output_type": "stream",
     "text": [
      "0.8906514475743081\n",
      "0.10934855242569186\n",
      "0.3000127956311328\n"
     ]
    }
   ],
   "source": [
    "print(ss.norm.cdf(1.23))\n",
    "print(1-ss.norm.cdf(1.23))\n",
    "print(ss.norm.cdf(1.7)-ss.norm.cdf(0.4))"
   ]
  },
  {
   "cell_type": "markdown",
   "metadata": {},
   "source": [
    "### Task 2.2\n",
    "\n",
    "Given that $X\\sim N(5, 5)$, compute $P(2\\leq X < 9)$. "
   ]
  },
  {
   "cell_type": "code",
   "execution_count": 28,
   "metadata": {},
   "outputs": [
    {
     "data": {
      "text/plain": [
       "0.8733246175003488"
      ]
     },
     "execution_count": 28,
     "metadata": {},
     "output_type": "execute_result"
    }
   ],
   "source": [
    "import math\n",
    "\n",
    "X = ss.norm(loc=5, scale=math.sqrt(5))\n",
    "X.cdf(9) - X.cdf(2)"
   ]
  },
  {
   "cell_type": "markdown",
   "metadata": {},
   "source": [
    "#### Example: binomial distribution \n",
    "\n",
    "We can do quite similar things for discrete distributions. For instance, you can introduce a random variable distributed according to the binomial distribution\n",
    "\n",
    "`X = ss.binom(10, 0.2)`\n",
    "\n",
    "and to compute the probability that X is equal to 3, you could use\n",
    "\n",
    "`X.pmf(3)`"
   ]
  },
  {
   "cell_type": "code",
   "execution_count": 29,
   "metadata": {},
   "outputs": [
    {
     "data": {
      "text/plain": [
       "0.20132659200000022"
      ]
     },
     "execution_count": 29,
     "metadata": {},
     "output_type": "execute_result"
    }
   ],
   "source": [
    "X = ss.binom(10, 0.2) # Declare X to be a binomial random variable\n",
    "X.pmf(3)                 # P(X = 3)"
   ]
  },
  {
   "cell_type": "markdown",
   "metadata": {},
   "source": [
    "### Task 2.3\n",
    "\n",
    "For a Poisson distribution with parameter $\\lambda=2$, generate a random sample of size 1000, compute the mean of the sample, and compare it with the expectation. "
   ]
  },
  {
   "cell_type": "code",
   "execution_count": 30,
   "metadata": {},
   "outputs": [
    {
     "name": "stdout",
     "output_type": "stream",
     "text": [
      "2.0\n",
      "2.021\n"
     ]
    }
   ],
   "source": [
    "Y = ss.poisson(2) # Declare Y to be a poisson random variable\n",
    "x = Y.rvs(size=1000)        # Get a random sample from Y\n",
    "\n",
    "print(Y.mean())\n",
    "print(np.mean(x))"
   ]
  },
  {
   "cell_type": "markdown",
   "metadata": {},
   "source": [
    "### Task 2.4\n",
    "\n",
    "For a Geometric distrbution with parameter $p=0.75$, generate a random sample of size 1000, compute the (biased) variance of the sample, and compare it with the theoretical variance of the random variable. "
   ]
  },
  {
   "cell_type": "code",
   "execution_count": 31,
   "metadata": {},
   "outputs": [
    {
     "name": "stdout",
     "output_type": "stream",
     "text": [
      "1.331\n",
      "1.3333333333333333\n"
     ]
    }
   ],
   "source": [
    "X = ss.geom(0.75) # Declare X to be a geometric random variable\n",
    "\n",
    "x = (X.rvs(size=1000)) # Get a random sample from Y\n",
    "print(np.mean(x))\n",
    "print(X.mean())"
   ]
  }
 ],
 "metadata": {
  "kernelspec": {
   "display_name": "Python 3 (ipykernel)",
   "language": "python",
   "name": "python3"
  },
  "language_info": {
   "codemirror_mode": {
    "name": "ipython",
    "version": 3
   },
   "file_extension": ".py",
   "mimetype": "text/x-python",
   "name": "python",
   "nbconvert_exporter": "python",
   "pygments_lexer": "ipython3",
   "version": "3.9.12"
  }
 },
 "nbformat": 4,
 "nbformat_minor": 2
}
